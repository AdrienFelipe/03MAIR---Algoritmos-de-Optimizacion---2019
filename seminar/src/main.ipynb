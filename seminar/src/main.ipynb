{
 "cells": [
  {
   "cell_type": "markdown",
   "metadata": {
    "colab_type": "text",
    "id": "hVbXYX-RfPWh"
   },
   "source": [
    "# Algoritmos de optimización - Seminario<br>\n",
    "*Adrien Felipe*     \n",
    "[Colab.research.google.com](https://colab.research.google.com/drive/1SuNFJWqr-g_XPSjd1C7yhKl6IRlVsWtC)     \n",
    "[Github.com](https://github.com/AdrienFelipe/03MAIR---Algoritmos-de-Optimizacion---2019/tree/master/seminar)\n",
    "\n",
    "## Problema\n",
    "### 1. Sesiones de doblaje\n",
    "\n",
    "\n",
    "Se precisa coordinar el doblaje de una película. Los actores del doblaje deben coincidir en las\n",
    "tomas en las que sus personajes aparecen juntos en las diferentes tomas. Los actores de\n",
    "doblaje cobran todos la misma cantidad por cada día que deben desplazarse hasta el estudio\n",
    "de grabación independientemente del número de tomas que se graben.\n",
    "\n",
    "No es posible grabar\n",
    "más de 6 tomas por día. El objetivo es planificar las sesiones por día de manera que el gasto por los servicios de los actores de doblaje sea el menor posible\n",
    "\n",
    "\n",
    "\n",
    "                                        "
   ]
  },
  {
   "cell_type": "markdown",
   "metadata": {
    "colab_type": "text",
    "id": "mo2rbf500UCU"
   },
   "source": [
    "## Analisis previo\n",
    "### Días de grabación\n",
    "Hay 30 tomas en total y no se pueden superar 6 tomas por día,\n",
    "por lo cual el caso óptimo no puede ser inferior a **5 días de grabación**.\n",
    "### Precio por actor\n",
    "Al cobrar todos los actores lo mismo por día independientemente de número de tomas, podemos **ignorar el precio por actor**.  \n",
    "### Orden de las tomas\n",
    "El **orden de las tomas es irrelevante** dentro de cada sesión, ya que no afecta el gasto final. \n",
    "### Orden de las sesiones\n",
    "El **orden de las sesiones es irrelevante** ya que tampoco afecta al gasto final."
   ]
  },
  {
   "cell_type": "markdown",
   "metadata": {
    "colab_type": "text",
    "id": "sBsTfRHa1-cI"
   },
   "source": [
    "## Preguntas"
   ]
  },
  {
   "cell_type": "markdown",
   "metadata": {
    "colab_type": "text",
    "id": "3_-exlrTgLd-"
   },
   "source": [
    "### ¿Cuantas posibilidades hay sin tener en cuenta las restricciones?\n",
    "\n",
    "Existe una **única restricción**; el máximo de tomas por día.   \n",
    "\n",
    "El no tener en cuenta dicha restricción corresponde en poder grabar todas las tomas en un mismo día, y en tener una sola y única sesión.     \n",
    "\n",
    "Disponemos de **30 tomas**, por lo cual tendríamos $n! = 30! \\approx 2.7e32 $ combinaciones posibles de tomas dentro de una única sesión.    \n",
    "Pero al ser irrelevante el orden de las tomas, tendríamos en realidad **1 única solución**, y un gasto correspondiente al total de actores (10). \n",
    "\n",
    "\n",
    "\n"
   ]
  },
  {
   "cell_type": "markdown",
   "metadata": {
    "colab_type": "text",
    "id": "5DsoV2Vp6D6C"
   },
   "source": [
    "### ¿Cuantas posibilidades hay teniendo en cuenta todas las restricciones?\n",
    "\n",
    "Definimos $n$ el total de tomas y $m$ las tomas por sesión, con $n,m \\in \\mathbb{N}^2 $ y $1\\leq m \\leq n$        \n",
    "     \n",
    "Para calcular el total de sesiones posibles, elegimos $m$ veces una de las $n$ tomas, teniendo una menos por elegir en cada iteración.    \n",
    "Deducimos el **total de sesiones posibles**:\n",
    "$$s_{t}(n) = \\prod_{i=1}^{m} (n-i+1) = \\frac{n!}{(n-m)!}$$    \n",
    "       \n",
    "Pero es necesario tener en cuenta que el orden de la tomas por sesión es irrelevante.     \n",
    "En una sesión tenemos $m$ tomas, que se pueden combinar de $m!$ maneras, por lo cual si ignoramos el orden de las tomas, tenemos como **total de sesiones únicas**:\n",
    "\n",
    "$$ s_{u}(n) = \\frac{s_{t}(n)}{m!} = \\frac{n!}{(n-m)! \\cdot m!}$$    \n",
    "\n",
    "\n",
    "\n",
    "       \n",
    "Para calcular el total de soluciones, sabemos que la grabación necesitará realizar $\\frac{n}{m}$ sesiones ($m \\neq 0$).    \n",
    "Sabemos también que el orden de las sesiones es irrelevante, y estas se pueden combinar de $\\frac{n}{m}!$ maneras.        \n",
    "Tenemos $s_{u}(n)$ sesiones por elegir para el primer día, pero las tomas no se han de repetir entre las diferentes sesiones, por lo cual tenemos $s_{u}(n-m)$ el segundo día, y de forma general tenemos, como **total de soluciones únicas posibles**:\n",
    "\n",
    "<br />\n",
    "\n",
    "$$\n",
    " S = \\frac{\\prod_{i=0}^{ \\frac{n}{m}-1} s_{u}(n-i \\cdot m)}{\\frac{n}{m}!}\n",
    " = \\frac{1}{\\frac{n}{m}!} \\cdot \\prod_{i=0}^{ \\frac{n}{m}-1} \\frac{(n-i \\cdot m)!}{(n-i \\cdot m -m)! \\cdot m!}\n",
    "$$\n",
    "      \n",
    "<br /><br />\n",
    "\n",
    "En el caso del enunciado, el número de **soluciones únicas posibles** es:     \n",
    "    \n",
    "$$\n",
    "\\frac{1}{ 5!} *\n",
    "\\frac{30!}{(30-6)! \\cdot 6!} *\n",
    "\\frac{24!}{(24 -6)! \\cdot 6!} *\n",
    "\\frac{18!}{(18 -6)! \\cdot 6!} *\n",
    "\\frac{12!}{(12 -6)! \\cdot 6!} *\n",
    "\\frac{6!}{(6 -6)! \\cdot 6!}\n",
    "\\approx 1,14 \\cdot10^{16}\n",
    "$$\n",
    "       \n",
    "       \n",
    "<br>\n",
    "Deducimos también que:\n",
    "\n",
    "$$ S = \\frac{1}{\\frac{n}{m}!} \\cdot \\prod_{i=1}^{\\frac{n}{m}} \\frac{ (i \\cdot m)! }{ ((i-1) \\cdot m)! \\cdot  m! } = \\frac{n!}{ \\frac{n}{m}! \\cdot m!^{\\frac{n}{m}}} $$     \n",
    "      \n",
    "<br>\n",
    "Lo cual tiene una lectura bastante intuitiva: disponemos de $n!$ combinaciones de tomas, las cuales contienen $\\frac{n}{m}!$ combinaciones irrelevantes de sesiones, y $\\frac{n}{m}$ veces $m!$ combinaciones de tomas irrelevantes.\n"
   ]
  },
  {
   "cell_type": "markdown",
   "metadata": {
    "colab_type": "text",
    "id": "dzynfVJahHoY"
   },
   "source": [
    "### Modelo para el espacio de soluciones\n",
    "#### ¿Cual es la estructura de datos que mejor se adapta al problema? \n",
    "\n",
    "La primera opción que viene a la cabeza para representar una solución, es una lista de sesiones, ellas mismas siendo listas de tomas, por ejemplo:    \n",
    "- Sesión 1\n",
    "  - toma a\n",
    "  - toma b\n",
    "  - toma c\n",
    "  - ...\n",
    "- Sesión 2\n",
    "  - ...\n",
    "- ...\n",
    "\n",
    "La ventaja es su intuitividad, y su sencillez para delimitar el límite de tomas por sesión.     \n",
    "Pero tiene una gran desventaja, y es que complica la programación necesaria para recorrer las soluciones requiriendo operaciones adicionales para buscar tomas ya usadas, calcular los gastos y encontrar soluciones duplicadas pero en orden de tomas diferentes.      \n",
    "\n",
    "Conviene en realidad por cada solución crear una lista plana de tomas, y usar el número de tomas de la solución como indicador de cantidad total de sesiones o nivel de compleción de la última sesión.    \n",
    "\n",
    "Por ejemplo el resto `tamaño_solución % número_de_tomas_por_sesión` nos indica el nivel de compleción de la última sesión. Si el resultado es cero, sabemos que la sesión anterior está completa y estamos empezando una nueva, o de lo contrario, cuantas tomas contiene la última sesión."
   ]
  },
  {
   "cell_type": "markdown",
   "metadata": {
    "colab_type": "text",
    "id": "7Z9U2W7bi-XS"
   },
   "source": [
    "### Según el modelo para el espacio de soluciones<br>\n",
    "#### ¿Cual es la función objetivo?\n",
    "La función objetivo se resume en calcular el coste de los actores para la grabación, lo cual corresponde en **sumar el coste de cada sesión**, tras contabilizar **cuántos actores son necesarios** para cada una de ellas.    \n",
    "Podemos modelizar la función de la siguiente manera:\n",
    "\n",
    "$$ f(S) = \\sum_{i=1}^{ \\frac{n}{m} } \\lVert OR_{ s_{i} \\rightarrow j}( \\vec{C}_{j}) \\lVert $$\n",
    "\n",
    "$OR_{ s_{i} \\rightarrow j}$ siendo una operación lógica *OR* entre los vectores coste de las tomas $\\vec{C}_{j} \\in [0, 1]^a $ de cada sesión $s_{i}$, con $a$ el número de actores.    \n",
    "Y $\\lVert \\vec{C} \\lVert$ la norma 1 del vector coste resultante de la operación lógica.     "
   ]
  },
  {
   "cell_type": "markdown",
   "metadata": {
    "colab_type": "text",
    "id": "1G3h0-8Flzec"
   },
   "source": [
    "#### Código función objetivo"
   ]
  },
  {
   "cell_type": "code",
   "execution_count": 0,
   "metadata": {
    "colab": {},
    "colab_type": "code",
    "id": "pTB73tXrllug"
   },
   "outputs": [],
   "source": [
    "import numpy as np\n",
    "\n",
    "\n",
    "def calculate_cost(solution: tuple, max_takes: int, costs: tuple) -> int:\n",
    "    \"\"\"\n",
    "    Calculate the real cost of a single solution.\n",
    "\n",
    "    :param solution: a flat list of takes, representing a complete or partial solution.\n",
    "    :param max_takes: the max allowed number of takes per session.\n",
    "    :param costs: a two dimensions list of all takes with their corresponding needed actors.\n",
    "\n",
    "    :return: the cost of the solution.\n",
    "    \"\"\"\n",
    "    # Solution total cost.\n",
    "    solution_cost = 0\n",
    "    # Takes per session counter.\n",
    "    takes_count = 0\n",
    "    session_cost = None\n",
    "    session_is_full = False\n",
    "\n",
    "    for take in solution:\n",
    "        takes_count += 1\n",
    "        # Whether a session reached its max allowed takes.\n",
    "        session_is_full = takes_count == max_takes\n",
    "        # Use a numpy array to ease bitwise operations.\n",
    "        take_cost = np.array(costs[take])\n",
    "        # Use bitwise 'or' operation to join the takes' costs per session,\n",
    "        # as an actor gets paid the same amount regardless of his takes by session.\n",
    "        session_cost = take_cost if session_cost is None else session_cost | take_cost\n",
    "\n",
    "        if session_is_full:\n",
    "            # Total cost is the cost sum of all sessions.\n",
    "            solution_cost += session_cost.sum()\n",
    "            # Reset session cost and counters.\n",
    "            session_cost = None\n",
    "            takes_count = 0\n",
    "\n",
    "    # Sum last session if partial, as it would not have been previously added.\n",
    "    if not session_is_full and session_cost is not None:\n",
    "        solution_cost += session_cost.sum()\n",
    "\n",
    "    return solution_cost"
   ]
  },
  {
   "cell_type": "markdown",
   "metadata": {
    "colab_type": "text",
    "id": "hBalWLM7j1_d"
   },
   "source": [
    "#### ¿Es un problema de maximización o minimización?\n",
    "\n",
    "El objetivo es reducir el coste y por tanto minimizar la función $f(S)$. Es un problema de minimización."
   ]
  },
  {
   "cell_type": "markdown",
   "metadata": {
    "colab_type": "text",
    "id": "rlnTYgY1j6I2"
   },
   "source": [
    "## Algoritmo para resolver el problema por fuerza bruta"
   ]
  },
  {
   "cell_type": "code",
   "execution_count": 0,
   "metadata": {
    "colab": {},
    "colab_type": "code",
    "id": "CJb5sQ0qkENy"
   },
   "outputs": [],
   "source": [
    "def brute_force(costs: tuple, max_takes: int) -> tuple:\n",
    "    # Generate all solutions from all takes combinations.\n",
    "    solutions = next_level(costs)\n",
    "\n",
    "    best_solution = None\n",
    "    best_solution_cost = None\n",
    "    # Check all solutions to find the best one.\n",
    "    for solution in solutions:\n",
    "        solution_cost = calculate_cost(solution, max_takes, costs)\n",
    "        if best_solution is None or solution_cost < best_solution_cost:\n",
    "            best_solution = solution\n",
    "            best_solution_cost = solution_cost\n",
    "\n",
    "    return best_solution\n",
    "\n",
    "\n",
    "def next_level(costs: tuple, solution: tuple = ()) -> list:\n",
    "    \"\"\"From a partial solution, generate all remaining combinations\"\"\"\n",
    "    children = []\n",
    "    for take_id in range(len(costs)):\n",
    "        # Do not duplicate takes in a solution.\n",
    "        if take_id in solution:\n",
    "            continue\n",
    "\n",
    "        local_solution = solution + (take_id,)\n",
    "        if len(local_solution) < len(costs):\n",
    "            # Recursively add levels until solution full length is reached.\n",
    "            children += next_level(costs, local_solution)\n",
    "        else:\n",
    "            children.append(local_solution)\n",
    "\n",
    "    return children"
   ]
  },
  {
   "cell_type": "markdown",
   "metadata": {
    "colab_type": "text",
    "id": "tgrnsC2nkFa8"
   },
   "source": [
    "### Complejidad del algoritmo por fuerza bruta\n",
    "\n",
    "El algoritmo por fuerza bruta genera todas las soluciones posibles, aunque estén duplicadas, es decir $n!$ soluciones y por tanto tiene una complejidad $O(n!)$"
   ]
  },
  {
   "cell_type": "markdown",
   "metadata": {
    "colab_type": "text",
    "id": "txbrmLmskReM"
   },
   "source": [
    "## Diseña un algoritmo que mejore la complejidad del algortimo por fuerza bruta\n",
    "\n",
    "Propongo un algoritmo de ramificación y poda con 3 tipos de poda, con la idea de descartar una gran parte de las soluciones que estimemos tener un peor resultado.     \n",
    "Para ello planteo un estimador de coste inferior, que calcule el coste mínimo posible entre las soluciones restantes, a partir de una solución parcial.    \n",
    "Es decir que recorremos únicamente las tomas faltantes a una solución parcial, sumando el total de tomas faltantes por actor, y determinando así el total de sesiones restantes por actor, cuya suma representa el coste mínimo posible restante.       \n",
    "\n",
    "     \n",
    "Para formalizarlo, definimos $n'$ el número de tomas restantes y $\\vec{C}_{i}$ los vectores restantes de coste de toma.     \n",
    "\n",
    "$$ \\text{vector coste inferior}: \\vec{C} = \\frac{1}{m} \\sum_{i=1}^{n'}  \\vec{C}_{i} $$\n",
    "\n",
    "$$ \\text{coste inferior} = \\lVert \\text{techo} (\\vec{C}) \\lVert $$\n",
    "\n",
    "<br>\n",
    "\n",
    "### Poda de hijos de un mismo nodo\n",
    "Tras generar los hijos de un nodo, nos quedamos únicamente con los hijos de menor *estimación de coste inferior*, y podamos el resto.\n",
    "\n",
    "### Poda de nodos con sesión completa\n",
    "Tras completar una sesión -es decir que esta haya llegado al máximo de tomas permitidas-, y que todos los nodos activos sean completos, podemos podar los nodos cuya suma del *coste actual* y del *coste restante estimado* sea mayor. Esto porqué los costes de la sesión ya no se cruzarán con los coste restantes estimados al estar la sesión completa.\n",
    "\n",
    "### Poda de límite de nodos\n",
    "Para evitar generar una lista demasiada importante de nodos a pesar de las podas anteriores, conviene aplicar una poda \"dura\" cuando se supere un número definido de nodos. En cuyo caso se ordenan los nodos de menor a mayor suma de *coste* y *estimación* y nos quedamos con los $x$ primeros difinidos por el límite. Por defecto lo dejamos a 500.     \n",
    "Esta poda implica no tener la garantía de encontrar la solución óptima ya que la seleción es semi-arbitraria."
   ]
  },
  {
   "cell_type": "markdown",
   "metadata": {
    "colab_type": "text",
    "id": "k2GAJZq_2uNy"
   },
   "source": [
    "### Algoritmo de ramificación y poda propuesto"
   ]
  },
  {
   "cell_type": "code",
   "execution_count": 0,
   "metadata": {
    "colab": {},
    "colab_type": "code",
    "id": "m1eyM21Vkabg"
   },
   "outputs": [],
   "source": [
    "def estimate_lowest_cost(solution: tuple, max_takes: int, costs: tuple) -> int:\n",
    "    \"\"\"Calculate an estimation of the lowest cost from the remaining takes\"\"\"\n",
    "    estimated_cost = None\n",
    "    for take_id, take in enumerate(costs):\n",
    "        if take_id not in solution:\n",
    "            take_cost = np.array(take)\n",
    "            estimated_cost = take_cost if estimated_cost is None else take_cost + estimated_cost\n",
    "\n",
    "    # Estimate best case scenario cost, by summing the minimal needed sessions per actor in the remaining takes.\n",
    "    return np.ceil(estimated_cost / max_takes).sum() if estimated_cost is not None else 0\n",
    "\n",
    "\n",
    "def create_child_solutions(solution: tuple, costs: tuple, max_takes: int, explored_nodes=None) -> list:\n",
    "    \"\"\"From a node solution, create its child solutions\"\"\"\n",
    "    # Auto-initialization for tests simplicity.\n",
    "    if explored_nodes is None:\n",
    "        explored_nodes = []\n",
    "\n",
    "    # Calculate takes number in the current session.\n",
    "    session_takes_count = max_takes - (len(solution) + 1) % max_takes\n",
    "\n",
    "    child_solutions = []\n",
    "    for take_id in range(len(costs)):\n",
    "        # Ignore already used takes.\n",
    "        if take_id not in solution:\n",
    "            local_solution = solution + (take_id,)\n",
    "            # Sort takes in the current session to have unique solutions, regardless of its takes order.\n",
    "            session_takes = tuple(sorted(local_solution[-session_takes_count:]))\n",
    "            local_solution = local_solution[:-session_takes_count] + session_takes\n",
    "            # Only add a child if it was not previously added.\n",
    "            if local_solution not in explored_nodes:\n",
    "                child_solutions.append(local_solution)\n",
    "                # Keep track of generated solutions.\n",
    "                explored_nodes.append(local_solution)\n",
    "\n",
    "    return child_solutions\n",
    "\n",
    "\n",
    "def branch_and_pound(costs: tuple, max_takes: int, nodes_limit: int = 500) -> tuple:\n",
    "    \"\"\"\n",
    "    Iteratively branch and pound the node tree based on 3 types of pounding:\n",
    "    - Node child pounding\n",
    "    - Full session nodes pounding\n",
    "    - Nodes limit pounding\n",
    "    \"\"\"\n",
    "    best_solution = None\n",
    "    best_solution_cost = None\n",
    "    explored_nodes = []\n",
    "    iteration = 0\n",
    "\n",
    "    # Initialize the tree with an empty root node.\n",
    "    nodes = [{\n",
    "        's': (),\n",
    "        'cost': 0,\n",
    "        'depth': 0,\n",
    "        'estimation': estimate_lowest_cost((), max_takes, costs),\n",
    "    }]\n",
    "\n",
    "    # Loop as long as there are nodes to loop over.\n",
    "    while nodes:\n",
    "        iteration += 1\n",
    "\n",
    "        # Active nodes max and min depths.\n",
    "        min_depth = min(nodes, key=lambda node: node['depth'])['depth']\n",
    "        max_depth = max(nodes, key=lambda node: node['depth'])['depth']\n",
    "\n",
    "        # Whether all nodes are at the same depth.\n",
    "        if max_depth != 0 and min_depth == max_depth:\n",
    "            # Whether it is a 'full session' depth.\n",
    "            if min_depth % max_takes == 0:\n",
    "                # As all nodes have full sessions, pound the ones with higher estimated cost.\n",
    "                best_node = min(nodes, key=lambda node: node['cost'] + node['estimation'])\n",
    "                best_cost = best_node['cost'] + best_node['estimation']\n",
    "                nodes = [node for node in nodes if node['cost'] + node['estimation'] <= best_cost]\n",
    "\n",
    "            # Hard pound if nodes list becomes too big. This might result in removing the best solution.\n",
    "            elif len(nodes) > nodes_limit:\n",
    "                # Sort nodes by current estimated cost.\n",
    "                nodes = sorted(nodes, key=lambda node: node['cost'] + node['estimation'])\n",
    "                nodes = nodes[:nodes_limit]\n",
    "\n",
    "        # Extract first node of the list.\n",
    "        # Node is expected to have the lowest depth as children are appended at the bottom of the list.\n",
    "        selected_node = nodes.pop(0)\n",
    "\n",
    "        # Branch selected node.\n",
    "        child_nodes = [\n",
    "            {\n",
    "                's': solution,\n",
    "                'depth': len(solution),\n",
    "                'cost': calculate_cost(solution, max_takes, costs),\n",
    "                'estimation': estimate_lowest_cost(solution, max_takes, costs),\n",
    "            }\n",
    "            for solution in create_child_solutions(selected_node['s'], costs, max_takes, explored_nodes)\n",
    "        ]\n",
    "\n",
    "        # Pound new branches with a higher estimated utopian cost.\n",
    "        if child_nodes:\n",
    "            best_cost = min(child_nodes, key=lambda node: node['estimation'])['estimation']\n",
    "            child_nodes = [node for node in child_nodes if node['estimation'] == best_cost]\n",
    "            nodes.extend(child_nodes)\n",
    "\n",
    "        # Whether node is final and cannot have children.\n",
    "        is_final_node = len(selected_node['s']) == len(costs)\n",
    "        # Select node as best solution if its cost has improved.\n",
    "        if is_final_node and (best_solution_cost is None or selected_node['cost'] < best_solution_cost):\n",
    "            best_solution_cost = selected_node['cost']\n",
    "            best_solution = selected_node['s']\n",
    "\n",
    "    print('Best solution with cost %i in %i iterations:' % (best_cost, iteration))\n",
    "    print(best_solution)"
   ]
  },
  {
   "cell_type": "markdown",
   "metadata": {
    "colab_type": "text",
    "id": "eG1HqAiA2ZGe"
   },
   "source": [
    "#### Preparamos los datos"
   ]
  },
  {
   "cell_type": "code",
   "execution_count": 0,
   "metadata": {
    "colab": {},
    "colab_type": "code",
    "id": "prcEma-X1_-p"
   },
   "outputs": [],
   "source": [
    "import pandas as pd\n",
    "\n",
    "filepath = 'https://raw.githubusercontent.com/AdrienFelipe/03MAIR---Algoritmos-de-Optimizacion---2019/master/seminar/res/data.csv'\n",
    "dataFrame = pd.read_csv(filepath, index_col=0)"
   ]
  },
  {
   "cell_type": "markdown",
   "metadata": {
    "colab_type": "text",
    "id": "uQMoJfOc3DoS"
   },
   "source": [
    "### Aplicamos el algoritmo"
   ]
  },
  {
   "cell_type": "code",
   "execution_count": 5,
   "metadata": {
    "colab": {
     "base_uri": "https://localhost:8080/",
     "height": 85
    },
    "colab_type": "code",
    "id": "MjNbK_yN3WGw",
    "outputId": "592a2376-f208-4e06-d86e-32c9a2d3715d"
   },
   "outputs": [
    {
     "name": "stdout",
     "output_type": "stream",
     "text": [
      "Best solution with cost 29 in 8596 iterations:\n",
      "(0, 1, 5, 6, 8, 12, 13, 16, 17, 18, 22, 23, 2, 3, 4, 14, 10, 19, 7, 15, 11, 20, 21, 24, 9, 25, 26, 27, 28, 29)\n",
      "CPU times: user 3min 31s, sys: 120 ms, total: 3min 31s\n",
      "Wall time: 3min 31s\n"
     ]
    }
   ],
   "source": [
    "%%time\n",
    "\n",
    "# Lista de costes por toma\n",
    "costs = tuple(dataFrame.itertuples(index=False, name=None))\n",
    "# Tomas por sesión\n",
    "max_takes = 6\n",
    "\n",
    "branch_and_pound(costs, max_takes)"
   ]
  },
  {
   "cell_type": "markdown",
   "metadata": {
    "colab_type": "text",
    "id": "eGDB4K6uk1iN"
   },
   "source": [
    "### Complejidad del algoritmo \n",
    "Consideramos como iteración el haber expandido todos los nodos activos al siguiente nivel.     \n",
    "De momento ignoramos la \"poda dura\", y permitimos un número libre de nodos.\n",
    "\n",
    "#### Costes por iteración\n",
    "**Definimos**     \n",
    "Número de nodos: $N$      \n",
    "Tamaño solución: $S$       \n",
    "Hijos por nodo: $H$  \n",
    "       \n",
    "**Coste por función**     \n",
    "Coste de generar hijos, por nodo: $n*S$     \n",
    "Coste de calcular coste, por hijo: $S$     \n",
    "Coste de estimar coste, por hijo: $n$\n",
    "\n",
    "**Coste iteración**: $C = N*(n*S + H*(S + n))$       \n",
    "         \n",
    "           \n",
    "#### Iteración 1\n",
    "Número de nodos: $N_{1}=1$      \n",
    "Tamaño solución: $S_{1}=0$       \n",
    "Hijos por nodo: $H_{1}=n-S_{1}=n$         \n",
    "\n",
    "#### Iteración 2\n",
    "Factor de poda: $p$    \n",
    "Número de nodos: $N_{2}=p \\cdot H_{1} \\cdot N_{1} = p \\cdot n$      \n",
    "Tamaño solución: $S_{2}=S_{1}+1=1$       \n",
    "Hijos por nodo: $H_{2}=n-S_{2}=n-1$      \n",
    "\n",
    "\n",
    "#### Iteración 3\n",
    "Factor de poda: $p$    \n",
    "Número de nodos: $N_{3}=p \\cdot H_{2} \\cdot N_{2}\n",
    "= p^2 \\cdot (n-1)  \\cdot n$      \n",
    "Tamaño solución: $S_{3}=S_{2}+1 = 2$       \n",
    "Hijos por nodo: $H_{3}=n-S_{3}=n-2$      \n",
    "\n",
    "#### Iteración i\n",
    "Número de nodos: $N_{i}=p^{i-1} \\cdot \\frac{n!}{(n-i+1)!}$      \n",
    "Tamaño solución: $S_{i}= i-1$       \n",
    "Hijos por nodo: $H_{i}=n-i+1$    \n",
    "          \n",
    "<br>\n",
    "Coste iteración $i$:       \n",
    "\n",
    "$C_i = N_i \\cdot (n \\cdot S_i + H_i \\cdot (S_i + n))$    \n",
    "$C_i = p^{i-1}  \\cdot  \\frac{n!}{(n-i+1)!}  \\cdot (n \\cdot (i-1) + (n-i+1) \\cdot (i-1 + n))$    \n",
    "$C_i = p^{i-1} \\cdot \\frac{n!}{(n-i+1)!} \\cdot (n^2 + n \\cdot (i-1) + i \\cdot(1-i)-1)$    \n",
    "\n",
    "<br>\n",
    "Coste total: $$ C = \\sum_{i=1}^n C_i \\approx C_n $$      \n",
    "<br>\n",
    "\n",
    "$C \\approx p^{n-1} \\cdot \\frac{n!}{(n-n+1)!} \\cdot (n^2 + n \\cdot (n-1) + n \\cdot(1-n)-1) =  p^{n-1} \\cdot n! \\cdot (n^2 - 1)$\n",
    "\n",
    "<br>\n",
    "$$C \\approx n! \\cdot n^2 \\cdot p^{n-1} $$\n",
    "         \n",
    "**Peor caso**: la poda nunca encuentra mejores nodos teniendo entonces $p=1$, y la complejidad del peor caso resulta ser $O(n!)$        \n",
    "**Mejor caso**: la poda es capaz de quedarse con un solo nodo en cada iteración por lo cual tenemos:     \n",
    "\n",
    "$\n",
    "N_{i}=p^{i-1} \\cdot \\frac{n!}{(n-i+1)!} = 1  \n",
    "\\Leftrightarrow  p^{i-1} = \\frac{(n-i+1)!}{n!}\n",
    "$      \n",
    "y $C \\approx n! \\cdot n^2 \\cdot \\frac{(n-n+1)!}{n!} = n^2 $ y tenemos $O(n^2)$     \n",
    "        \n",
    "Tenemos una complejidad: $O(n^2) < O(f) < O(n!)$\n",
    "\n",
    "#### Poda dura\n",
    "            \n",
    "Si aplicamos la \"poda dura\", y limitamos el número de nodos a máximo $L$ en cada iteración, entonces tenemos en el peor caso:        \n",
    "$N_i=p^{i-1} \\cdot L$, con $p=1$          \n",
    "y $C_i = L \\cdot (n^2 + n \\cdot (i-1) + i \\cdot (1-i)-1)$     \n",
    "      \n",
    "$ C = \\sum_{i=1}^n C_i \\approx n \\cdot L \\cdot n^2 = L \\cdot n^3$      \n",
    "\n",
    "Por tanto la poda dura nos permite acotar la complejidad a:      \n",
    "\n",
    "$$ O(n^2) < O(f) < O(n^3)$$"
   ]
  },
  {
   "cell_type": "markdown",
   "metadata": {
    "colab_type": "text",
    "id": "3M6QjTsSkmYe"
   },
   "source": [
    "## Juego de datos de entrada aleatorios"
   ]
  },
  {
   "cell_type": "code",
   "execution_count": 6,
   "metadata": {
    "colab": {
     "base_uri": "https://localhost:8080/",
     "height": 323
    },
    "colab_type": "code",
    "id": "sJ-N2etjkyWc",
    "outputId": "332e0f09-7a35-4d23-c880-99304cc57b4f"
   },
   "outputs": [
    {
     "name": "stdout",
     "output_type": "stream",
     "text": [
      "Total de tomas: 14\n",
      "Tomas por sesión: 7\n",
      "Total de actores: 13\n",
      "Costes:\n"
     ]
    },
    {
     "data": {
      "text/plain": [
       "([1, 0, 1, 0, 0, 0, 0, 1, 0, 0, 0, 0, 0],\n",
       " [1, 0, 0, 0, 0, 0, 0, 0, 0, 0, 0, 0, 0],\n",
       " [0, 0, 0, 0, 0, 0, 0, 1, 0, 0, 0, 0, 1],\n",
       " [1, 0, 0, 1, 0, 0, 0, 1, 0, 1, 0, 0, 1],\n",
       " [0, 1, 1, 0, 0, 1, 0, 0, 0, 0, 0, 0, 1],\n",
       " [0, 0, 0, 0, 0, 0, 0, 0, 1, 0, 0, 0, 0],\n",
       " [0, 0, 1, 0, 0, 1, 0, 0, 0, 0, 0, 0, 1],\n",
       " [0, 0, 0, 0, 0, 0, 0, 1, 0, 0, 0, 0, 1],\n",
       " [0, 0, 1, 0, 0, 0, 0, 1, 0, 0, 1, 0, 0],\n",
       " [0, 1, 0, 0, 0, 0, 0, 1, 0, 1, 0, 0, 0],\n",
       " [1, 1, 1, 1, 0, 1, 1, 0, 1, 0, 1, 0, 0],\n",
       " [0, 1, 0, 0, 0, 0, 0, 0, 0, 1, 0, 0, 1],\n",
       " [0, 1, 1, 1, 0, 0, 1, 0, 1, 0, 1, 0, 0],\n",
       " [1, 0, 0, 1, 0, 1, 0, 0, 1, 1, 0, 0, 0])"
      ]
     },
     "metadata": {
      "tags": []
     },
     "output_type": "display_data"
    }
   ],
   "source": [
    "import random\n",
    "\n",
    "# Máximo de tomas para el juego de datos.\n",
    "total_takes = 24\n",
    "\n",
    "# Número máximo de sesiones.\n",
    "sessions = random.randint(3, int(total_takes / 2))\n",
    "\n",
    "# Restricción de número de tomas por sesión.\n",
    "session_takes = random.randint(2, int(total_takes / sessions))\n",
    "\n",
    "# Número de tomas.\n",
    "takes = session_takes * sessions\n",
    "\n",
    "# Número de actores a tener en cuenta\n",
    "actors = random.randint(4, 20)\n",
    "\n",
    "# Probabilidad de actuar en una toma.\n",
    "p = 0.2  # 20%\n",
    "\n",
    "# Generamos los costes.\n",
    "random_costs = ()\n",
    "for take_id in range(takes):\n",
    "    take = []\n",
    "    for actor in range(actors):\n",
    "        take.append(int(random.random() < p))\n",
    "    # Nos aseguramos tener al menos 1 actor por toma.\n",
    "    if not sum(take):\n",
    "        actor = random.randint(0, actors - 1)\n",
    "        take[actor] = 1\n",
    "\n",
    "    random_costs += (take,)\n",
    "\n",
    "print('Total de tomas:', takes)\n",
    "print('Tomas por sesión:', sessions)\n",
    "print('Total de actores:', actors)\n",
    "print('Costes:')\n",
    "display(random_costs)"
   ]
  },
  {
   "cell_type": "markdown",
   "metadata": {
    "colab_type": "text",
    "id": "zy5ZROmjlGo1"
   },
   "source": [
    "### Aplica el algoritmo al juego de datos generado"
   ]
  },
  {
   "cell_type": "code",
   "execution_count": 7,
   "metadata": {
    "colab": {
     "base_uri": "https://localhost:8080/",
     "height": 51
    },
    "colab_type": "code",
    "id": "Jkx8GeiYlUz1",
    "outputId": "93a8fc47-eda3-4f57-e304-f693b35b45ae"
   },
   "outputs": [
    {
     "name": "stdout",
     "output_type": "stream",
     "text": [
      "Best solution with cost 33 in 36 iterations:\n",
      "(10, 12, 4, 6, 0, 8, 3, 13, 1, 2, 5, 7, 9, 11)\n"
     ]
    }
   ],
   "source": [
    "branch_and_pound(random_costs, session_takes)"
   ]
  },
  {
   "cell_type": "markdown",
   "metadata": {
    "colab_type": "text",
    "id": "kAkDPUyRtYyH"
   },
   "source": [
    "## Como crees que es posible avanzar en el estudio del problema\n",
    "\n",
    "Lo primero para mi sería hacer benchmark del algoritmo actual comparando el impacto sobre el tiempo total de cálculo aplicando variantes en el código, como limitando bucles, apoyandose más en librerias y apreciando el impacto de usar clases.     \n",
    "Lo segundo sería probar una alternativa a la poda dura con otro tipo de estimación de coste."
   ]
  }
 ],
 "metadata": {
  "colab": {
   "collapsed_sections": [],
   "name": "Adrien Felipe - Seminario: Organizar sesiones de doblaje",
   "provenance": []
  },
  "kernelspec": {
   "display_name": "Python 3",
   "language": "python",
   "name": "python3"
  },
  "language_info": {
   "codemirror_mode": {
    "name": "ipython",
    "version": 3
   },
   "file_extension": ".py",
   "mimetype": "text/x-python",
   "name": "python",
   "nbconvert_exporter": "python",
   "pygments_lexer": "ipython3",
   "version": "3.7.4"
  },
  "pycharm": {
   "stem_cell": {
    "cell_type": "raw",
    "metadata": {
     "collapsed": false
    },
    "source": []
   }
  }
 },
 "nbformat": 4,
 "nbformat_minor": 1
}
