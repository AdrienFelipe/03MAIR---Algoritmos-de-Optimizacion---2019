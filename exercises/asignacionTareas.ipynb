{
 "nbformat": 4,
 "nbformat_minor": 0,
 "metadata": {
  "colab": {
   "name": "Adrien Felipe - AG2: Asignación de tareas",
   "provenance": [],
   "collapsed_sections": []
  },
  "kernelspec": {
   "name": "python3",
   "display_name": "Python 3"
  },
  "pycharm": {
   "stem_cell": {
    "cell_type": "raw",
    "source": [],
    "metadata": {
     "collapsed": false
    }
   }
  }
 },
 "cells": [
  {
   "cell_type": "markdown",
   "metadata": {
    "id": "RS_U0ltIsQgC",
    "colab_type": "text"
   },
   "source": [
    "# AG2 - Ramificación y Poda: Asignación de tareas\n",
    "*Adrien Felipe*    \n",
    "https://colab.research.google.com/drive/1GVrR1zB1qq-sGhDVFBVCtFFSvecdwfsd"
   ]
  },
  {
   "cell_type": "code",
   "metadata": {
    "id": "0GMejswdjNoq",
    "colab_type": "code",
    "colab": {}
   },
   "source": [
    "import itertools\n",
    "import random\n",
    "from time import time"
   ],
   "execution_count": 0,
   "outputs": []
  },
  {
   "cell_type": "markdown",
   "metadata": {
    "id": "2JgcrOG2c2Nd",
    "colab_type": "text"
   },
   "source": [
    "## Decorador tiempo de ejecución"
   ]
  },
  {
   "cell_type": "code",
   "metadata": {
    "id": "pRyBtDylc6Bn",
    "colab_type": "code",
    "colab": {}
   },
   "source": [
    "def execution_time(function):\n",
    "    \"\"\"Function decorator to track execution time, in milliseconds\"\"\"\n",
    "    def wrapper(*args, **kwargs):\n",
    "        start_time = time()       \n",
    "        result = function(*args, **kwargs)       \n",
    "        print(\"Execution time: %i ms\" % int((time() - start_time) * 1000))\n",
    "        \n",
    "        return result\n",
    "    \n",
    "    return wrapper"
   ],
   "execution_count": 0,
   "outputs": []
  },
  {
   "cell_type": "markdown",
   "metadata": {
    "id": "HTafO_DnIhRo",
    "colab_type": "text"
   },
   "source": [
    "## Código clase"
   ]
  },
  {
   "cell_type": "code",
   "metadata": {
    "id": "OMqScRCHGqgu",
    "colab_type": "code",
    "colab": {}
   },
   "source": [
    "# Problema de asignación de tarea\n",
    "COSTES=[\n",
    "  [11,12,18,40],\n",
    "  [14,15,13,22],\n",
    "  [11,17,19,23],\n",
    "  [17,14,20,28],\n",
    "]"
   ],
   "execution_count": 0,
   "outputs": []
  },
  {
   "cell_type": "code",
   "metadata": {
    "id": "RAkCndrSIp5m",
    "colab_type": "code",
    "colab": {}
   },
   "source": [
    "# Coste de una solución\n",
    "def valor(S,COSTES):\n",
    "  VALOR = 0\n",
    "  for i in range(len(S)):\n",
    "    VALOR += COSTES[S[i]][i]\n",
    "  return VALOR"
   ],
   "execution_count": 0,
   "outputs": []
  },
  {
   "cell_type": "code",
   "metadata": {
    "id": "yOdI5ZMuJ-R6",
    "colab_type": "code",
    "colab": {}
   },
   "source": [
    "# Coste inferior\n",
    "def CI(S,COSTES):\n",
    "  VALOR = 0\n",
    "  #Valores establecidos\n",
    "  for i in range(len(S)):\n",
    "    VALOR += COSTES[i][S[i]]\n",
    "\n",
    "  #Estimacion\n",
    "  for i in range(  len(COSTES)  ):\n",
    "    if i not in S:\n",
    "      VALOR += min( [ COSTES[j][i] for j in range(len(S), len(COSTES))  ])\n",
    "  return VALOR"
   ],
   "execution_count": 0,
   "outputs": []
  },
  {
   "cell_type": "code",
   "metadata": {
    "id": "QN97HQPlKAEy",
    "colab_type": "code",
    "colab": {}
   },
   "source": [
    "# Coste superior\n",
    "def CS(S,COSTES):\n",
    "  VALOR = 0\n",
    "  #Valores establecidos\n",
    "  for i in range(len(S)):\n",
    "    VALOR += COSTES[i][S[i]]\n",
    "  \n",
    "  #Estimacion\n",
    "  for i in range(  len(COSTES)   ):\n",
    "    if i not in S:\n",
    "      VALOR += max( [ COSTES[j][i] for j in range(len(S), len(COSTES))  ])\n",
    "  return VALOR"
   ],
   "execution_count": 0,
   "outputs": []
  },
  {
   "cell_type": "code",
   "metadata": {
    "id": "WYfyQfNUKbsY",
    "colab_type": "code",
    "colab": {}
   },
   "source": [
    "# Genera tantos hijos como posibilidades haya para el siguiente elemento de la tupla\n",
    "#(0,) -> (0,1), (0,2), (0,3)\n",
    "def crear_hijos(NODO, N):\n",
    "  HIJOS = []\n",
    "  for i in range(N ):\n",
    "    if i not in NODO:\n",
    "      HIJOS.append({'s':NODO +(i,)    })\n",
    "  return HIJOS"
   ],
   "execution_count": 0,
   "outputs": []
  },
  {
   "cell_type": "code",
   "metadata": {
    "id": "hBEmTecBGZqn",
    "colab_type": "code",
    "colab": {}
   },
   "source": [
    "@execution_time\n",
    "def ramificacion_y_poda(COSTES):\n",
    "#Construccion iterativa de soluciones(arbol). En cada etapa asignamos un agente(ramas).\n",
    "#Nodos del grafo  { s:(1,2),CI:3,CS:5  }\n",
    "  #print(COSTES)\n",
    "  DIMENSION = len(COSTES)  \n",
    "  MEJOR_SOLUCION=tuple( i for i in range(len(COSTES)) )\n",
    "  CotaSup = valor(MEJOR_SOLUCION,COSTES)\n",
    "  #print(\"Cota Superior:\", CotaSup)\n",
    "\n",
    "  NODOS=[]\n",
    "  NODOS.append({'s':(), 'ci':CI((),COSTES)    } )\n",
    "\n",
    "  iteracion = 0\n",
    "\n",
    "  while( len(NODOS) > 0):\n",
    "    iteracion +=1\n",
    "\n",
    "    nodo_prometedor = [ min(NODOS, key=lambda x:x['ci']) ][0]['s']\n",
    "    #print(\"Nodo prometedor:\", nodo_prometedor)\n",
    "\n",
    "    #Ramificacion\n",
    "    #Se generan los hijos\n",
    "    HIJOS =[ {'s':x['s'], 'ci':CI(x['s'], COSTES)   } for x in crear_hijos(nodo_prometedor, DIMENSION) ]\n",
    "\n",
    "    #Revisamos la cota superior y nos quedamos con la mejor solucion si llegamos a una solucion final\n",
    "    NODO_FINAL = [x for x in HIJOS if len(x['s']) == DIMENSION  ]\n",
    "    if len(NODO_FINAL ) >0: \n",
    "      #print(\"\\n********Soluciones:\",  [x for x in HIJOS if len(x['s']) == DIMENSION  ] )\n",
    "      if NODO_FINAL[0]['ci'] < CotaSup:\n",
    "        CotaSup = NODO_FINAL[0]['ci']\n",
    "        MEJOR_SOLUCION = NODO_FINAL\n",
    " \n",
    "    #Poda\n",
    "    HIJOS = [x for x in HIJOS if x['ci'] < CotaSup   ]\n",
    "\n",
    "    #Añadimos los hijos \n",
    "    NODOS.extend(HIJOS) \n",
    "\n",
    "    #Eliminamos el nodo ramificado\n",
    "    NODOS =  [  x for x in NODOS if x['s'] != nodo_prometedor    ]\n",
    "   \n",
    "  print(\"La solucion final es:\" ,MEJOR_SOLUCION , \" en \" , iteracion , \" iteraciones\" , \" para dimension: \" ,DIMENSION  )"
   ],
   "execution_count": 0,
   "outputs": []
  },
  {
   "cell_type": "code",
   "metadata": {
    "id": "cYzlaOuuKqA2",
    "colab_type": "code",
    "outputId": "918d120a-341d-49dd-8fc3-fc45aac97bf9",
    "colab": {
     "base_uri": "https://localhost:8080/",
     "height": 51
    }
   },
   "source": [
    "ramificacion_y_poda(COSTES)"
   ],
   "execution_count": 10,
   "outputs": [
    {
     "output_type": "stream",
     "text": [
      "La solucion final es: [{'s': (0, 2, 3, 1), 'ci': 61}]  en  14  iteraciones  para dimension:  4\n",
      "Execution time: 3 ms\n"
     ],
     "name": "stdout"
    }
   ]
  },
  {
   "cell_type": "markdown",
   "metadata": {
    "id": "AyrrLXHQNyy0",
    "colab_type": "text"
   },
   "source": [
    "## Fuerza bruta"
   ]
  },
  {
   "cell_type": "code",
   "metadata": {
    "id": "4W01eDipN0dJ",
    "colab_type": "code",
    "colab": {}
   },
   "source": [
    "@execution_time\n",
    "def fuerza_bruta(COSTES):\n",
    "  mejor_valor = 10e10\n",
    "  mejor_solucion = ()\n",
    "\n",
    "  for s in list(itertools.permutations(range(len(COSTES)))):\n",
    "    valor_tmp = valor(s, COSTES)\n",
    "    if valor_tmp < mejor_valor:\n",
    "      mejor_valor = valor_tmp\n",
    "      mejor_solucion = s\n",
    "\n",
    "  print('La mejor solución es: %s con valor: %s' % (mejor_solucion, mejor_valor))"
   ],
   "execution_count": 0,
   "outputs": []
  },
  {
   "cell_type": "code",
   "metadata": {
    "id": "bqJxjfVSPSF-",
    "colab_type": "code",
    "outputId": "9a122de8-1b5e-4f8c-e1c3-e06576b4f145",
    "colab": {
     "base_uri": "https://localhost:8080/",
     "height": 51
    }
   },
   "source": [
    "fuerza_bruta(COSTES)"
   ],
   "execution_count": 12,
   "outputs": [
    {
     "output_type": "stream",
     "text": [
      "La mejor solución es: (0, 3, 1, 2) con valor: 61\n",
      "Execution time: 0 ms\n"
     ],
     "name": "stdout"
    }
   ]
  },
  {
   "cell_type": "markdown",
   "metadata": {
    "id": "6rn_7Ol4MDCd",
    "colab_type": "text"
   },
   "source": [
    "## Preguntas"
   ]
  },
  {
   "cell_type": "markdown",
   "metadata": {
    "id": "aA7XBgeSMGOa",
    "colab_type": "text"
   },
   "source": [
    "### ¿Que complejidad tiene el algoritmo por fuerza bruta?\n",
    "La complejidad es factorial O(n!)"
   ]
  },
  {
   "cell_type": "markdown",
   "metadata": {
    "id": "lTDiuWLESBLb",
    "colab_type": "text"
   },
   "source": [
    "### Generar matrices con valores aleatorios de mayores dimensiones"
   ]
  },
  {
   "cell_type": "code",
   "metadata": {
    "id": "UFweObi_ThR3",
    "colab_type": "code",
    "colab": {
     "base_uri": "https://localhost:8080/",
     "height": 952
    },
    "outputId": "edf705f8-dfa5-48bd-c2b1-74e4f4267754"
   },
   "source": [
    "dims = [5,6,7,10,11]\n",
    "COSTES_EXTRA = {str(dim): [[int(random.random() * 50) for i in range(dim)] for j in range(dim)] for dim in dims}\n",
    "\n",
    "for dim, LOCAL_COSTES in COSTES_EXTRA.items():\n",
    "  print('\\n\\n# Dim: %s -----------------\\n' % dim)\n",
    "  print('Ramificación y poda:')\n",
    "  ramificacion_y_poda(LOCAL_COSTES)\n",
    "  print()\n",
    "  print('Fuerza bruta:')\n",
    "  fuerza_bruta(LOCAL_COSTES)"
   ],
   "execution_count": 13,
   "outputs": [
    {
     "output_type": "stream",
     "text": [
      "\n",
      "\n",
      "# Dim: 5 -----------------\n",
      "\n",
      "Ramificación y poda:\n",
      "La solucion final es: [{'s': (1, 4, 0, 3, 2), 'ci': 77}]  en  18  iteraciones  para dimension:  5\n",
      "Execution time: 2 ms\n",
      "\n",
      "Fuerza bruta:\n",
      "La mejor solución es: (2, 0, 4, 3, 1) con valor: 77\n",
      "Execution time: 0 ms\n",
      "\n",
      "\n",
      "# Dim: 6 -----------------\n",
      "\n",
      "Ramificación y poda:\n",
      "La solucion final es: [{'s': (4, 2, 1, 0, 5, 3), 'ci': 55}]  en  24  iteraciones  para dimension:  6\n",
      "Execution time: 2 ms\n",
      "\n",
      "Fuerza bruta:\n",
      "La mejor solución es: (3, 2, 1, 5, 0, 4) con valor: 55\n",
      "Execution time: 1 ms\n",
      "\n",
      "\n",
      "# Dim: 7 -----------------\n",
      "\n",
      "Ramificación y poda:\n",
      "La solucion final es: [{'s': (0, 4, 2, 3, 6, 5, 1), 'ci': 48}]  en  13  iteraciones  para dimension:  7\n",
      "Execution time: 1 ms\n",
      "\n",
      "Fuerza bruta:\n",
      "La mejor solución es: (0, 6, 2, 3, 1, 5, 4) con valor: 48\n",
      "Execution time: 6 ms\n",
      "\n",
      "\n",
      "# Dim: 10 -----------------\n",
      "\n",
      "Ramificación y poda:\n",
      "La solucion final es: [{'s': (5, 2, 7, 9, 0, 4, 6, 8, 3, 1), 'ci': 86}]  en  679  iteraciones  para dimension:  10\n",
      "Execution time: 72 ms\n",
      "\n",
      "Fuerza bruta:\n",
      "La mejor solución es: (4, 9, 1, 8, 5, 0, 6, 2, 7, 3) con valor: 86\n",
      "Execution time: 4909 ms\n",
      "\n",
      "\n",
      "# Dim: 11 -----------------\n",
      "\n",
      "Ramificación y poda:\n",
      "La solucion final es: [{'s': (10, 2, 9, 1, 5, 3, 6, 7, 8, 0, 4), 'ci': 84}]  en  881  iteraciones  para dimension:  11\n",
      "Execution time: 125 ms\n",
      "\n",
      "Fuerza bruta:\n",
      "La mejor solución es: (9, 3, 1, 5, 10, 4, 6, 7, 8, 2, 0) con valor: 84\n",
      "Execution time: 56304 ms\n"
     ],
     "name": "stdout"
    }
   ]
  },
  {
   "cell_type": "markdown",
   "metadata": {
    "id": "oQ_YQNCvZpQz",
    "colab_type": "text"
   },
   "source": [
    "### ¿A partir de que dimensión el algoritmo por fuerza bruta deja de ser una opción?\n",
    "A partir de 10 dimensiones, ya se dispara el tiempo de ejecución del algoritmo por fuerza bruta, mientras que el de ramificación sigue tardando fracciones de segundo.    \n",
    "De hecho, mas de 11 dimensiones colab se queda sin RAM."
   ]
  },
  {
   "cell_type": "markdown",
   "metadata": {
    "id": "97Q12LT_aeIz",
    "colab_type": "text"
   },
   "source": [
    "### ¿Hay algún valor de la dimensión a partir de la cual el algoritmo de ramificación y poda deja de ser una opción válida?"
   ]
  },
  {
   "cell_type": "code",
   "metadata": {
    "id": "N9QiTDoLjgU8",
    "colab_type": "code",
    "colab": {
     "base_uri": "https://localhost:8080/",
     "height": 442
    },
    "outputId": "ee13170b-fa97-48bf-9b8f-29a314f505bf"
   },
   "source": [
    "dims = range(11,16)\n",
    "COSTES_EXTRA = {str(dim): [[int(random.random() * 50) for i in range(dim)] for j in range(dim)] for dim in dims}\n",
    "\n",
    "for dim, LOCAL_COSTES in COSTES_EXTRA.items():\n",
    "  print('# Dim: %s -----------------' % dim)\n",
    "  print('Ramificación y poda:')\n",
    "  ramificacion_y_poda(LOCAL_COSTES)\n",
    "  print()"
   ],
   "execution_count": 18,
   "outputs": [
    {
     "output_type": "stream",
     "text": [
      "# Dim: 11 -----------------\n",
      "Ramificación y poda:\n",
      "La solucion final es: [{'s': (5, 9, 4, 3, 6, 8, 10, 0, 1, 7, 2), 'ci': 74}]  en  1073  iteraciones  para dimension:  11\n",
      "Execution time: 199 ms\n",
      "\n",
      "# Dim: 12 -----------------\n",
      "Ramificación y poda:\n",
      "La solucion final es: [{'s': (4, 1, 8, 0, 5, 7, 3, 10, 9, 11, 6, 2), 'ci': 54}]  en  1027  iteraciones  para dimension:  12\n",
      "Execution time: 163 ms\n",
      "\n",
      "# Dim: 13 -----------------\n",
      "Ramificación y poda:\n",
      "La solucion final es: [{'s': (2, 6, 12, 8, 5, 3, 7, 11, 0, 1, 10, 9, 4), 'ci': 49}]  en  8248  iteraciones  para dimension:  13\n",
      "Execution time: 8393 ms\n",
      "\n",
      "# Dim: 14 -----------------\n",
      "Ramificación y poda:\n",
      "La solucion final es: [{'s': (1, 4, 2, 12, 6, 8, 0, 10, 3, 13, 9, 11, 7, 5), 'ci': 48}]  en  831  iteraciones  para dimension:  14\n",
      "Execution time: 202 ms\n",
      "\n",
      "# Dim: 15 -----------------\n",
      "Ramificación y poda:\n",
      "La solucion final es: [{'s': (6, 3, 2, 10, 5, 8, 0, 14, 12, 13, 11, 9, 4, 1, 7), 'ci': 89}]  en  13809  iteraciones  para dimension:  15\n",
      "Execution time: 24217 ms\n",
      "\n"
     ],
     "name": "stdout"
    }
   ]
  },
  {
   "cell_type": "markdown",
   "metadata": {
    "id": "wuQkTsp7kHHI",
    "colab_type": "text"
   },
   "source": [
    "Vemos que a partir de **dimensión 15**, el tiempo de ejecución del algoritmo de ramificación y poda se dispara. Posiblemente no se pueda superar la dimensión 20 en tiempos racionales."
   ]
  }
 ]
}