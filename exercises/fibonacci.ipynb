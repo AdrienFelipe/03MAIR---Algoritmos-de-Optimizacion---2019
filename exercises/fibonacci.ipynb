{
 "cells": [
  {
   "cell_type": "code",
   "execution_count": 40,
   "metadata": {
    "collapsed": true,
    "pycharm": {
     "is_executing": false
    }
   },
   "outputs": [
    {
     "name": "stdout",
     "text": [
      "------------\n0:\nRecursive: 0\nIterative: 0\n------------\n1:\nRecursive: 1\nIterative: 1\n------------\n2:\nRecursive: 1\nIterative: 1\n------------\n6:\nRecursive: 8\nIterative: 8\n------------\n10:\nRecursive: 55\nIterative: 55\n------------\n25:\nRecursive: 75025\nIterative: 75025\n"
     ],
     "output_type": "stream"
    }
   ],
   "source": [
    "def fibonacci_rec(count) -> int:\n",
    "    \"\"\"Recursive implementation\"\"\"\n",
    "    return count if count < 2 else fibonacci_rec(count - 1) + fibonacci_rec(count - 2)\n",
    "\n",
    "def fibonacci_ite(count) -> int:\n",
    "    \"\"\"Iterative implementation\"\"\"\n",
    "    if count < 2:\n",
    "        return count\n",
    "    \n",
    "    values = [0, 1]\n",
    "    for i in range(count - 1):\n",
    "        values = values[1], values[0] + values[1]\n",
    "    \n",
    "    return values[1]\n",
    "\n",
    "for target in [0,1,2,6,10,25]:\n",
    "    print('------------')\n",
    "    print(str(target) + ':')\n",
    "    print('Recursive:', fibonacci_rec(target))\n",
    "    print('Iterative:', fibonacci_ite(target))\n",
    "    "
   ]
  },
  {
   "cell_type": "code",
   "execution_count": 44,
   "outputs": [
    {
     "name": "stdout",
     "text": [
      "------------\n0:\nRecursive: 0 - O(1)\nIterative: 0 - O(2)\n------------\n1:\nRecursive: 1 - O(1)\nIterative: 1 - O(2)\n------------\n2:\nRecursive: 1 - O(3)\nIterative: 1 - O(4)\n------------\n6:\nRecursive: 8 - O(25)\nIterative: 8 - O(8)\n------------\n10:\nRecursive: 55 - O(177)\nIterative: 55 - O(12)\n------------\n25:\nRecursive: 75025 - O(242785)\nIterative: 75025 - O(27)\n"
     ],
     "output_type": "stream"
    }
   ],
   "source": [
    "\n",
    "def fibonacci_rec(count) -> int:\n",
    "    \"\"\"Recursive implementation\"\"\"\n",
    "    global n_rec\n",
    "    n_rec += 1\n",
    "    return count if count < 2 else fibonacci_rec(count - 1) + fibonacci_rec(count - 2)\n",
    "\n",
    "def fibonacci_ite(count) -> int:\n",
    "    \"\"\"Iterative implementation\"\"\"\n",
    "    global n_ite\n",
    "    n_ite += 1\n",
    "    \n",
    "    if count < 2:\n",
    "        n_ite += 1\n",
    "        return count\n",
    "    \n",
    "    n_ite += 2\n",
    "    values = [0, 1]\n",
    "    for i in range(count - 1):\n",
    "        n_ite += 1\n",
    "        values = values[1], values[0] + values[1]\n",
    "    \n",
    "    return values[1]\n",
    "\n",
    "for target in [0,1,2,6,10,25]:\n",
    "    n_rec = 0\n",
    "    n_ite = 0\n",
    "    print('------------')\n",
    "    print(str(target) + ':')\n",
    "    print('Recursive:', fibonacci_rec(target), '- O(' + str(n_rec) + ')')\n",
    "    print('Iterative:', fibonacci_ite(target), '- O(' + str(n_ite) + ')')"
   ],
   "metadata": {
    "collapsed": false,
    "pycharm": {
     "name": "#%%\n",
     "is_executing": false
    }
   }
  }
 ],
 "metadata": {
  "kernelspec": {
   "display_name": "Python 3",
   "language": "python",
   "name": "python3"
  },
  "language_info": {
   "codemirror_mode": {
    "name": "ipython",
    "version": 2
   },
   "file_extension": ".py",
   "mimetype": "text/x-python",
   "name": "python",
   "nbconvert_exporter": "python",
   "pygments_lexer": "ipython2",
   "version": "2.7.6"
  },
  "pycharm": {
   "stem_cell": {
    "cell_type": "raw",
    "source": [],
    "metadata": {
     "collapsed": false
    }
   }
  }
 },
 "nbformat": 4,
 "nbformat_minor": 0
}