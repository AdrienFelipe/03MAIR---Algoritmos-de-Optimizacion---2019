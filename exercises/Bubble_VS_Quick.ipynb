{
  "nbformat": 4,
  "nbformat_minor": 0,
  "metadata": {
    "colab": {
      "name": "Bubble VS Quick.ipynb",
      "provenance": [],
      "include_colab_link": true
    },
    "kernelspec": {
      "name": "python3",
      "display_name": "Python 3"
    }
  },
  "cells": [
    {
      "cell_type": "markdown",
      "metadata": {
        "id": "view-in-github",
        "colab_type": "text"
      },
      "source": [
        "<a href=\"https://colab.research.google.com/github/AdrienFelipe/03MAIR---Algoritmos-de-Optimizacion---2019/blob/master/exercises/Bubble_VS_Quick.ipynb\" target=\"_parent\"><img src=\"https://colab.research.google.com/assets/colab-badge.svg\" alt=\"Open In Colab\"/></a>"
      ]
    },
    {
      "cell_type": "code",
      "metadata": {
        "id": "RBwp_a7afWtk",
        "colab_type": "code",
        "colab": {
          "base_uri": "https://localhost:8080/",
          "height": 136
        },
        "outputId": "605cba14-d1b6-4cf9-b6c3-ebdc88888f4c"
      },
      "source": [
        "import numpy as np\n",
        "\n",
        "\n",
        "def bubble_sort(data: list) -> list:\n",
        "    n = 2\n",
        "    sorted = False\n",
        "    while not sorted:\n",
        "        n += 1\n",
        "        sorted = True\n",
        "        for i in range(len(data) - 1):\n",
        "            n += 2\n",
        "            if data[i] > data[i + 1]:\n",
        "                n += 2\n",
        "                data[i], data[i + 1] = data[i + 1], data[i]\n",
        "                sorted = False\n",
        "\n",
        "    print('Bubble sort: n =', len(data), '- O(', n, ')')\n",
        "    return data\n",
        "\n",
        "\n",
        "def quick_sort(data, start=None, end=None):\n",
        "    n = 0\n",
        "    if start is None:\n",
        "        start = 0\n",
        "        end = len(data) - 1\n",
        "        n += 2\n",
        "\n",
        "    if start < end:\n",
        "        low_key = start - 1\n",
        "        pivot_value = data[end]\n",
        "        n += 3\n",
        "\n",
        "        for key in range(start, end):\n",
        "            n += 2\n",
        "            if data[key] < pivot_value:\n",
        "                low_key += 1\n",
        "                data[low_key], data[key] = data[key], data[low_key]\n",
        "                n += 2\n",
        "\n",
        "        low_key += 1\n",
        "        data[low_key], data[end] = data[end], data[low_key]\n",
        "        n += 2\n",
        "\n",
        "        n += quick_sort(data, start, low_key - 1)\n",
        "        n += quick_sort(data, low_key + 1, end)\n",
        "        n += 2\n",
        "\n",
        "    if start == 0 and end == len(data) - 1:\n",
        "        print('Quick sort: n =', len(data), '- O(', n, ')')\n",
        "        return data\n",
        "    \n",
        "    return n\n",
        "\n",
        "\n",
        "random_data = np.random.randint(1000, size=20)\n",
        "print(bubble_sort(random_data.copy()))\n",
        "print()\n",
        "print(quick_sort(random_data.copy()))\n"
      ],
      "execution_count": 47,
      "outputs": [
        {
          "output_type": "stream",
          "text": [
            "Bubble sort: n = 20 - O( 728 )\n",
            "[ 52  80 159 251 262 388 452 481 533 541 581 640 652 663 669 704 715 846\n",
            " 981 987]\n",
            "\n",
            "Quick sort: n = 20 - O( 297 )\n",
            "[ 52  80 159 251 262 388 452 481 533 541 581 640 652 663 669 704 715 846\n",
            " 981 987]\n"
          ],
          "name": "stdout"
        }
      ]
    }
  ]
}