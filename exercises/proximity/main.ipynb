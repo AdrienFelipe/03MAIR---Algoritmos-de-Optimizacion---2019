{
 "cells": [
  {
   "cell_type": "code",
   "execution_count": 12,
   "metadata": {
    "collapsed": true,
    "pycharm": {
     "is_executing": false
    }
   },
   "outputs": [],
   "source": [
    "import random\n",
    "\n",
    "from ProximityFinder import search, brute_force\n",
    "\n",
    "N = 1000\n",
    "dims = 2\n",
    "data = [[int(random.random() * 1000) for i in range(dims)] for j in range(N)]\n",
    "\n",
    "# data = [[1, 1], [4, 4], [4, 3], [6, 7]]\n",
    "# data = [[1, 1], [1, 6], [7, 1], [6, 7], [3, 3]]"
   ]
  },
  {
   "cell_type": "code",
   "execution_count": 13,
   "outputs": [
    {
     "name": "stdout",
     "text": [
      "[[164, 1], [164, 1]]\nCPU times: user 4.45 s, sys: 0 ns, total: 4.45 s\nWall time: 4.47 s\n"
     ],
     "output_type": "stream"
    }
   ],
   "source": [
    "%%time\n",
    "\n",
    "length, points = search(data)\n",
    "print(points)"
   ],
   "metadata": {
    "collapsed": false,
    "pycharm": {
     "name": "#%%\n",
     "is_executing": false
    }
   }
  },
  {
   "cell_type": "code",
   "execution_count": 14,
   "outputs": [
    {
     "name": "stdout",
     "text": [
      "[[164, 1], [164, 1]]\nCPU times: user 10.3 s, sys: 77.7 ms, total: 10.4 s\nWall time: 10.4 s\n"
     ],
     "output_type": "stream"
    }
   ],
   "source": [
    "%%time\n",
    "\n",
    "length, points = brute_force(data)\n",
    "print(points)"
   ],
   "metadata": {
    "collapsed": false,
    "pycharm": {
     "name": "#%%\n",
     "is_executing": false
    }
   }
  }
 ],
 "metadata": {
  "kernelspec": {
   "name": "python3",
   "language": "python",
   "display_name": "Python 3"
  },
  "language_info": {
   "codemirror_mode": {
    "name": "ipython",
    "version": 2
   },
   "file_extension": ".py",
   "mimetype": "text/x-python",
   "name": "python",
   "nbconvert_exporter": "python",
   "pygments_lexer": "ipython2",
   "version": "2.7.6"
  },
  "pycharm": {
   "stem_cell": {
    "cell_type": "raw",
    "source": [],
    "metadata": {
     "collapsed": false
    }
   }
  }
 },
 "nbformat": 4,
 "nbformat_minor": 0
}