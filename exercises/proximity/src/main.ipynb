{
 "cells": [
  {
   "cell_type": "code",
   "execution_count": 1,
   "metadata": {
    "collapsed": true,
    "pycharm": {
     "is_executing": false
    }
   },
   "outputs": [],
   "source": [
    "import random\n",
    "from ProximityFinder import ProximityFinder\n",
    "\n",
    "\n",
    "\n",
    "N = 1000\n",
    "dims = 2\n",
    "data = [[int(random.random() * 1000) for i in range(dims)] for j in range(N)]\n",
    "\n",
    "# data = [[1, 1], [4, 4], [4, 3], [6, 7]]\n",
    "# data = [[1, 1], [1, 6], [7, 1], [6, 7], [3, 3]]"
   ]
  },
  {
   "cell_type": "code",
   "execution_count": 2,
   "outputs": [
    {
     "name": "stdout",
     "text": [
      "[[307, 474], [307, 475]]\nCPU times: user 5.01 s, sys: 102 ms, total: 5.11 s\nWall time: 5.15 s\n"
     ],
     "output_type": "stream"
    }
   ],
   "source": [
    "%%time\n",
    "\n",
    "length, points = ProximityFinder.search(data)\n",
    "print(points)"
   ],
   "metadata": {
    "collapsed": false,
    "pycharm": {
     "name": "#%%\n",
     "is_executing": false
    }
   }
  },
  {
   "cell_type": "code",
   "execution_count": 3,
   "outputs": [
    {
     "name": "stdout",
     "text": [
      "[[690, 29], [690, 28]]\nCPU times: user 11.8 s, sys: 57.2 ms, total: 11.8 s\nWall time: 11.8 s\n"
     ],
     "output_type": "stream"
    }
   ],
   "source": [
    "%%time\n",
    "\n",
    "length, points = ProximityFinder.brute_force(data)\n",
    "print(points)\n",
    "\n"
   ],
   "metadata": {
    "collapsed": false,
    "pycharm": {
     "name": "#%%\n",
     "is_executing": false
    }
   }
  }
 ],
 "metadata": {
  "kernelspec": {
   "name": "python3",
   "language": "python",
   "display_name": "Python 3"
  },
  "language_info": {
   "codemirror_mode": {
    "name": "ipython",
    "version": 2
   },
   "file_extension": ".py",
   "mimetype": "text/x-python",
   "name": "python",
   "nbconvert_exporter": "python",
   "pygments_lexer": "ipython2",
   "version": "2.7.6"
  },
  "pycharm": {
   "stem_cell": {
    "cell_type": "raw",
    "source": [],
    "metadata": {
     "collapsed": false
    }
   }
  }
 },
 "nbformat": 4,
 "nbformat_minor": 0
}