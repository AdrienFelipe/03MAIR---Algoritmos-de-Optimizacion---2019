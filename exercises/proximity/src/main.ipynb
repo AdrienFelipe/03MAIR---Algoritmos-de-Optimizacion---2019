{
 "cells": [
  {
   "cell_type": "markdown",
   "source": [
    "# Puntos más cercanos\n",
    "Propongo un algoritmo tipo 'divide y vencerás', el cual divide en dos bloques el espacio de puntos,\n",
    "hasta obtener bloques de dos o menos puntos.\n",
    "\n",
    "\n",
    "## Explicación\n",
    "\n",
    "Mi idea es dividir recursivamente el espacio de cada dimensión en 2 bloques hasta\n",
    "tener máximo dos puntos por bloque.   \n",
    "Sólo comparamos bloques de dos puntos y el resto los ignoramos.\n",
    "Los puntos más cercanos serán los puntos de menor norma euclideana de los bloques comparados.     \n",
    "\n",
    "Pero es necesario tener en cuenta que no podemos únicamente dividir en dos el espacio ya que puede darse el caso que dos puntos\n",
    "más cercanos estén cada uno en un bloque diferente y por lo tanto no comparados.\n",
    "\n",
    "![Graph 1](../res/graph1.png)\n",
    "\n",
    "Vemos en el dibujo anterior que $p_{0}$ está más cerca de $p _{B}$, pero el bloque $[A, C]$ consideraría $p_{A}$ y\n",
    "$p_{0}$ como más cercanos, y $[C, B]$ sólo contiene el punto $p _{B}$.\n",
    "\n",
    "Tenemos que ampliar el tamaño de los bloques de tal forma que se solapen lo suficiente para que dos puntos más cercanos\n",
    "estén siempre como mínimo juntos en el mismo bloque.\n",
    "\n",
    "![Graph 2](../res/graph2.png)\n",
    "\n",
    "Busco $\\delta _{A}$ y $\\delta _{B}$ de tal forma que ningún punto de $[A, \\delta _{A}[$ tenga como punto más cercano un\n",
    "punto de $]\\delta _{B}, B]$       \n",
    "\n",
    "Nuestras condiciones son:\n",
    "$\n",
    "\\begin{cases}\n",
    " & A\\delta_{B} < \\delta_{b}\\delta_{A} \\\\ \n",
    " & \\delta_{A}B < \\delta_{b}\\delta_{A} \\\\ \n",
    " & A\\delta_{B} = \\delta_{A}B \\\\\n",
    " & \\delta_{B}C = C\\delta_{A} \\\\\n",
    "\\end{cases}\n",
    " $\n",
    "\n",
    "Aislamos $A\\delta_{B}$:     \n",
    "$\n",
    "A\\delta_{A} = A\\delta_{B} + \\delta_{B} \\delta_{A} \\Leftrightarrow\n",
    "A\\delta_{B} = A\\delta_{A} - \\delta_{B} \\delta_{A}\n",
    "$\n",
    "\n",
    "\n",
    "Y aislamos también $\\delta_{B}\\delta_{A}$:    \n",
    "Empezamos por ver gráficamente que: $\\delta_{A}B = \\frac{AB}{2} - \\frac{\\delta_{B}\\delta_{A}}{2}$ \n",
    "\n",
    "Entonces tenemos:     \n",
    "$AB = A\\delta_{A} + \\delta_{A}B$    \n",
    "$ \\Leftrightarrow AB = A\\delta_{A} + \\frac{AB}{2} - \\frac{\\delta_{B}\\delta_{A}}{2}$    \n",
    "$ \\Leftrightarrow \\delta_{B}\\delta_{A} = 2A\\delta_{A} - AB$    \n",
    "\n",
    "Y finalmente:       \n",
    "$\n",
    "A\\delta_{B} < \\delta_{b}\\delta_{A} \\Leftrightarrow\n",
    "A\\delta_{A} - \\delta_{B} \\delta_{A} < 2A\\delta_{A} - AB\n",
    "$  \n",
    "$$ \\Leftrightarrow A\\delta_{A} < \\frac{2}{3}AB$$\n",
    "\n",
    "Cada bloque tendrá que ocupar mínimo el 2/3 del espacio."
   ],
   "metadata": {
    "collapsed": false,
    "pycharm": {
     "name": "#%% md\n"
    }
   }
  },
  {
   "cell_type": "code",
   "execution_count": 1,
   "outputs": [],
   "source": [
    "import random\n",
    "from ProximityFinder import ProximityFinder\n",
    "\n",
    "\n",
    "N = 1000\n",
    "dims = 2\n",
    "data = [[int(random.random() * 10000) for i in range(dims)] for j in range(N)]"
   ],
   "metadata": {
    "collapsed": false,
    "pycharm": {
     "name": "#%%\n",
     "is_executing": false
    }
   }
  },
  {
   "cell_type": "code",
   "execution_count": 3,
   "outputs": [
    {
     "name": "stdout",
     "text": [
      "Algoritmo 'divide y vencerás':\n\n",
      "[[634, 3276], [628, 3270]]\nCPU times: user 5.57 s, sys: 29.4 ms, total: 5.6 s\nWall time: 5.57 s\n"
     ],
     "output_type": "stream"
    }
   ],
   "source": [
    "%%time\n",
    "\n",
    "print('Algoritmo \\'divide y vencerás\\':\\n')\n",
    "length, points = ProximityFinder.search(data)\n",
    "print(points)"
   ],
   "metadata": {
    "collapsed": false,
    "pycharm": {
     "name": "#%%\n",
     "is_executing": false
    }
   }
  },
  {
   "cell_type": "code",
   "execution_count": 4,
   "outputs": [
    {
     "name": "stdout",
     "text": [
      "Algoritmo 'fuerza bruta':\n\n",
      "[[634, 3276], [628, 3270]]\nCPU times: user 13.1 s, sys: 38.5 ms, total: 13.1 s\nWall time: 13.1 s\n"
     ],
     "output_type": "stream"
    }
   ],
   "source": [
    "%%time\n",
    "\n",
    "print('Algoritmo \\'fuerza bruta\\':\\n')\n",
    "length, points = ProximityFinder.brute_force(data)\n",
    "print(points)\n"
   ],
   "metadata": {
    "collapsed": false,
    "pycharm": {
     "name": "#%%\n",
     "is_executing": false
    }
   }
  }
 ],
 "metadata": {
  "kernelspec": {
   "name": "python3",
   "language": "python",
   "display_name": "Python 3"
  },
  "language_info": {
   "codemirror_mode": {
    "name": "ipython",
    "version": 2
   },
   "file_extension": ".py",
   "mimetype": "text/x-python",
   "name": "python",
   "nbconvert_exporter": "python",
   "pygments_lexer": "ipython2",
   "version": "2.7.6"
  },
  "pycharm": {
   "stem_cell": {
    "cell_type": "raw",
    "source": [],
    "metadata": {
     "collapsed": false
    }
   }
  }
 },
 "nbformat": 4,
 "nbformat_minor": 0
}