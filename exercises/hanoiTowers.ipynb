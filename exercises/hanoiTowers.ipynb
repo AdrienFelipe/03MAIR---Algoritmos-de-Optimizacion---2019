{
  "nbformat": 4,
  "nbformat_minor": 0,
  "metadata": {
    "kernelspec": {
      "display_name": "Python 3",
      "language": "python",
      "name": "python3"
    },
    "language_info": {
      "codemirror_mode": {
        "name": "ipython",
        "version": 2
      },
      "file_extension": ".py",
      "mimetype": "text/x-python",
      "name": "python",
      "nbconvert_exporter": "python",
      "pygments_lexer": "ipython2",
      "version": "2.7.6"
    },
    "pycharm": {
      "stem_cell": {
        "cell_type": "raw",
        "source": [],
        "metadata": {
          "collapsed": false
        }
      }
    },
    "colab": {
      "name": "hanoiTowers.ipynb",
      "provenance": [],
      "include_colab_link": true
    }
  },
  "cells": [
    {
      "cell_type": "markdown",
      "metadata": {
        "id": "view-in-github",
        "colab_type": "text"
      },
      "source": [
        "<a href=\"https://colab.research.google.com/github/AdrienFelipe/03MAIR---Algoritmos-de-Optimizacion---2019/blob/master/exercises/hanoiTowers.ipynb\" target=\"_parent\"><img src=\"https://colab.research.google.com/assets/colab-badge.svg\" alt=\"Open In Colab\"/></a>"
      ]
    },
    {
      "cell_type": "markdown",
      "metadata": {
        "collapsed": false,
        "id": "HnUZoH5tK1x2",
        "colab_type": "text"
      },
      "source": [
        "# Torres de Hanói\n",
        "## Implementación recursiva"
      ]
    },
    {
      "cell_type": "code",
      "metadata": {
        "pycharm": {
          "is_executing": false
        },
        "id": "xPYhdezFK1x5",
        "colab_type": "code",
        "colab": {}
      },
      "source": [
        "def hanoi_towers(disks, origin, destination):\n",
        "    message = 'Move from %s to %s' % (origin, destination)\n",
        "    \n",
        "    if disks == 1:\n",
        "        print(message)\n",
        "    else:\n",
        "        target = 6 - origin - destination\n",
        "        hanoi_towers(disks - 1, origin, target)\n",
        "        print(message)\n",
        "        hanoi_towers(disks - 1, target, destination)"
      ],
      "execution_count": 0,
      "outputs": []
    },
    {
      "cell_type": "code",
      "metadata": {
        "pycharm": {
          "name": "#%%\n",
          "is_executing": false
        },
        "id": "t5rWRtiqK1x-",
        "colab_type": "code",
        "colab": {
          "base_uri": "https://localhost:8080/",
          "height": 272
        },
        "outputId": "7d000fa9-9b02-440e-c03a-7fc89c5c0cf4"
      },
      "source": [
        "hanoi_towers(4, 1, 3)"
      ],
      "execution_count": 6,
      "outputs": [
        {
          "output_type": "stream",
          "text": [
            "Move from 1 to 2\n",
            "Move from 1 to 3\n",
            "Move from 2 to 3\n",
            "Move from 1 to 2\n",
            "Move from 3 to 1\n",
            "Move from 3 to 2\n",
            "Move from 1 to 2\n",
            "Move from 1 to 3\n",
            "Move from 2 to 3\n",
            "Move from 2 to 1\n",
            "Move from 3 to 1\n",
            "Move from 2 to 3\n",
            "Move from 1 to 2\n",
            "Move from 1 to 3\n",
            "Move from 2 to 3\n"
          ],
          "name": "stdout"
        }
      ]
    }
  ]
}