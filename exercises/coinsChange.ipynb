{
 "cells": [
  {
   "cell_type": "markdown",
   "source": [
    "## Encontrar cambio de monedas por algoritmo voraz\n",
    "Preferí añadir un límite en la cantidad disponible de monedas"
   ],
   "metadata": {
    "collapsed": false
   }
  },
  {
   "cell_type": "code",
   "execution_count": 39,
   "metadata": {
    "pycharm": {
     "is_executing": false
    }
   },
   "outputs": [],
   "source": [
    "def find_change(total_amount: int, coins: dict):\n",
    "    \"\"\"Find change for a specific amount using a Greedy algorithm (Algoritmo voraz)\"\"\"\n",
    "    change = {}\n",
    "    # Coins are expected to be pre-sorted from highest to smallest\n",
    "    for coin, available in coins.items():\n",
    "        # Only use available coin quantity\n",
    "        amount = min(int(total_amount / coin), available)\n",
    "        if amount > 0:\n",
    "            total_amount -= amount * coin\n",
    "            change[coin] = amount\n",
    "            \n",
    "            # Exit when full change is found\n",
    "            if total_amount == 0:\n",
    "                break\n",
    "        \n",
    "    if total_amount != 0:\n",
    "        raise Exception('Not enough available change!')\n",
    "        \n",
    "    return change\n",
    "\n",
    "def count_coins(coins):\n",
    "    count = 0\n",
    "    for quantity in coins.values():\n",
    "        count += quantity\n",
    "    \n",
    "    return count"
   ]
  },
  {
   "cell_type": "code",
   "execution_count": 46,
   "outputs": [
    {
     "name": "stdout",
     "text": [
      "Available coins (coin amount: coin available quantity):\n{11: 2, 5: 2, 1: 5} \n\nChange for 3€:\n{1: 3} - Coins: 3 \n\nChange for 15€:\n{11: 1, 1: 4} - Coins: 5 \n\nChange for 50€:\nNot enough available change!\n"
     ],
     "output_type": "stream"
    }
   ],
   "source": [
    "available_coins = {\n",
    "    11: 2,\n",
    "    5: 2,\n",
    "    1: 5,\n",
    "}\n",
    "\n",
    "try:\n",
    "    print('Available coins (coin amount: coin available quantity):')\n",
    "    print(available_coins, '\\n')\n",
    "\n",
    "    print('Change for 3€:')\n",
    "    change = find_change(3, available_coins)\n",
    "    print(change, '- Coins:', count_coins(change), '\\n')\n",
    "\n",
    "    print('Change for 15€:')\n",
    "    change = find_change(15, available_coins)\n",
    "    print(change, '- Coins:', count_coins(change), '\\n')\n",
    "\n",
    "    print('Change for 50€:')\n",
    "    change = find_change(50, available_coins)\n",
    "    print(change, '- Coins:', count_coins(change), '\\n')\n",
    "    \n",
    "except Exception as exception:\n",
    "    print(exception)"
   ],
   "metadata": {
    "collapsed": false,
    "pycharm": {
     "name": "#%%\n",
     "is_executing": false
    }
   }
  },
  {
   "cell_type": "markdown",
   "source": [
    "Vemos que para devolver 15€ el algoritmo devuelve 5 monedas cuando lo óptimo sería devolver 3 de 5€\n",
    "\n",
    "\n",
    "Una forma rápida y sencilla de encontrar la cantidad mínima de buscar el cambio, es no tener en cuenta alguna moneda.     \n",
    "Pero no tengo claro que sea suficiente. Pensaba crear una función recursiva que pruebe combinaciones,\n",
    "pero no he encontrado caso donde quitar una moneda no sea suficiente."
   ],
   "metadata": {
    "collapsed": false
   }
  },
  {
   "cell_type": "code",
   "execution_count": 85,
   "outputs": [],
   "source": [
    "def find_optimal_change(total_amount: int, coins: dict):\n",
    "    \"\"\"Find change for a specific amount with minimal amount of coins\"\"\"\n",
    "    change = find_change(total_amount, coins)\n",
    "    coins_count = count_coins(change)\n",
    "    \n",
    "    for coin in coins.keys():\n",
    "        local_coins = coins.copy()\n",
    "        del local_coins[coin]\n",
    "        try:\n",
    "            local_change = find_change(total_amount, local_coins)\n",
    "            local_coins_count = count_coins(local_change)\n",
    "            # Use lowest coins count change\n",
    "            if local_coins_count < coins_count:\n",
    "                change = local_change\n",
    "                coins_count = local_coins_count\n",
    "                \n",
    "        except Exception:\n",
    "            pass\n",
    "    \n",
    "    return change"
   ],
   "metadata": {
    "collapsed": false,
    "pycharm": {
     "name": "#%%\n",
     "is_executing": false
    }
   }
  },
  {
   "cell_type": "code",
   "execution_count": 86,
   "outputs": [
    {
     "name": "stdout",
     "text": [
      "Change for 15€:\nGreedy: {11: 1, 1: 4} - Coins: 5\nMinimal: {5: 3} - Coins: 3\n"
     ],
     "output_type": "stream"
    }
   ],
   "source": [
    "available_coins = {11: 10, 5: 10, 1: 10}\n",
    "amount = 15\n",
    "\n",
    "print('Change for '+ str(amount) +'€:')\n",
    "change = find_change(amount, available_coins)\n",
    "print('Greedy:', change, '- Coins:', count_coins(change))\n",
    "change = find_optimal_change(amount, available_coins)\n",
    "print('Minimal:', change, '- Coins:', count_coins(change))"
   ],
   "metadata": {
    "collapsed": false,
    "pycharm": {
     "name": "#%%\n",
     "is_executing": false
    }
   }
  }
 ],
 "metadata": {
  "kernelspec": {
   "display_name": "Python 3",
   "language": "python",
   "name": "python3"
  },
  "language_info": {
   "codemirror_mode": {
    "name": "ipython",
    "version": 3
   },
   "file_extension": ".py",
   "mimetype": "text/x-python",
   "name": "python",
   "nbconvert_exporter": "python",
   "pygments_lexer": "ipython3",
   "version": "3.7.4"
  },
  "pycharm": {
   "stem_cell": {
    "cell_type": "raw",
    "source": [],
    "metadata": {
     "collapsed": false
    }
   }
  }
 },
 "nbformat": 4,
 "nbformat_minor": 2
}