{
 "cells": [
  {
   "cell_type": "markdown",
   "source": [
    "# Problema de las ocho reinas\n"
   ],
   "metadata": {
    "collapsed": false
   }
  },
  {
   "cell_type": "code",
   "execution_count": null,
   "outputs": [],
   "source": [
    "def reinas(N, solucion, etapa):\n",
    "    for i in range(1, N+1):\n",
    "        solucion[etapa] = i\n",
    "        \n",
    "    if es_prometedora(solucion, etapa):\n",
    "        if etapa== N -1:\n",
    "            print('\\n\\nLa solución es:')\n",
    "            print(solucion)\n",
    "        else:\n",
    "            reinas(N,solucion, etapa+1)\n",
    "    else:\n",
    "        None\n",
    "        \n",
    "    solucion[etapa] = 0\n",
    "    \n",
    "def es_prometedora(SOLUCION, etapa):\n",
    "    # Si la solución tiene 2 valores iguales no es válida\n",
    "    # => 2 reinas en la misma fila \n",
    "    for i in range(etapa + 1):\n",
    "        if SOLUCION.count(SOLUCION[i]) > 1:\n",
    "            return False\n",
    "        \n",
    "    # Verifica las diagonales\n",
    "    for j in range(i+1, etapa +1):\n",
    "        if abs(i-j) == abs(SOLUCION[i]-SOLUCION[j]):\n",
    "            return False\n",
    "        \n",
    "    return True"
   ],
   "metadata": {
    "collapsed": false,
    "pycharm": {
     "name": "#%%\n"
    }
   }
  }
 ],
 "metadata": {
  "kernelspec": {
   "display_name": "Python 3",
   "language": "python",
   "name": "python3"
  },
  "language_info": {
   "codemirror_mode": {
    "name": "ipython",
    "version": 2
   },
   "file_extension": ".py",
   "mimetype": "text/x-python",
   "name": "python",
   "nbconvert_exporter": "python",
   "pygments_lexer": "ipython2",
   "version": "2.7.6"
  },
  "pycharm": {
   "stem_cell": {
    "cell_type": "raw",
    "source": [],
    "metadata": {
     "collapsed": false
    }
   }
  }
 },
 "nbformat": 4,
 "nbformat_minor": 0
}