{
  "nbformat": 4,
  "nbformat_minor": 0,
  "metadata": {
    "colab": {
      "name": "Adrien Felipe - AG3: Agente viajero",
      "provenance": [],
      "collapsed_sections": []
    },
    "kernelspec": {
      "name": "python3",
      "display_name": "Python 3"
    }
  },
  "cells": [
    {
      "cell_type": "markdown",
      "metadata": {
        "id": "LnWtydW5WlwN",
        "colab_type": "text"
      },
      "source": [
        "# AG3 - Agente viajero\n",
        "*Adrien Felipe*    \n",
        "[Colab.research.google.com](https://colab.research.google.com/drive/1Dc8M-BSogYHAEieI95cRMWX0S7WAKAh_)    \n"
      ]
    },
    {
      "cell_type": "code",
      "metadata": {
        "id": "TgG-4988rlhb",
        "colab_type": "code",
        "outputId": "9a9ec280-1319-45f6-e302-d25c449d0c41",
        "colab": {
          "base_uri": "https://localhost:8080/",
          "height": 156
        }
      },
      "source": [
        "!pip install tsplib95"
      ],
      "execution_count": 1,
      "outputs": [
        {
          "output_type": "stream",
          "text": [
            "Collecting tsplib95\n",
            "  Downloading https://files.pythonhosted.org/packages/dc/43/039c0621085202f19d6c12b06330bf109743083ce4024137b4713da9c40b/tsplib95-0.6.1-py2.py3-none-any.whl\n",
            "Requirement already satisfied: Click>=6.0 in /usr/local/lib/python3.6/dist-packages (from tsplib95) (7.0)\n",
            "Requirement already satisfied: networkx~=2.1 in /usr/local/lib/python3.6/dist-packages (from tsplib95) (2.4)\n",
            "Requirement already satisfied: decorator>=4.3.0 in /usr/local/lib/python3.6/dist-packages (from networkx~=2.1->tsplib95) (4.4.1)\n",
            "Installing collected packages: tsplib95\n",
            "Successfully installed tsplib95-0.6.1\n"
          ],
          "name": "stdout"
        }
      ]
    },
    {
      "cell_type": "code",
      "metadata": {
        "id": "oBMYf6UTrPzR",
        "colab_type": "code",
        "colab": {}
      },
      "source": [
        "import urllib.request\n",
        "import tsplib95\n",
        "import random\n",
        "import math"
      ],
      "execution_count": 0,
      "outputs": []
    },
    {
      "cell_type": "code",
      "metadata": {
        "id": "yVPk7GzTsUtG",
        "colab_type": "code",
        "colab": {}
      },
      "source": [
        "file = \"swiss42.tsp\"\n",
        "urllib.request.urlretrieve(\"http://elib.zib.de/pub/mp-testdata/tsp/tsplib/tsp/swiss42.tsp\", file)\n",
        "problem = tsplib95.load_problem(file)\n",
        "\n",
        "Nodos = list(problem.get_nodes())\n",
        "Aristas = list(problem.get_edges())"
      ],
      "execution_count": 0,
      "outputs": []
    },
    {
      "cell_type": "markdown",
      "metadata": {
        "id": "I3v4rgm7tXql",
        "colab_type": "text"
      },
      "source": [
        "# Busqueda aleatoria"
      ]
    },
    {
      "cell_type": "code",
      "metadata": {
        "id": "fN_1Ya71r2AM",
        "colab_type": "code",
        "colab": {}
      },
      "source": [
        "#Se genera una solucion aleatoria con comienzo en en el nodo 0\n",
        "def crear_solucion(Nodos): \n",
        "  solucion = [0]\n",
        "  for i in range(len(Nodos)-1):\n",
        "    solucion = solucion + [random.choice(list(set(Nodos) - set({0}) - set(solucion)))]\n",
        "  return solucion"
      ],
      "execution_count": 0,
      "outputs": []
    },
    {
      "cell_type": "code",
      "metadata": {
        "id": "lJ8lVRQkuogB",
        "colab_type": "code",
        "colab": {}
      },
      "source": [
        "#Devuelve la distancia entre dos nodos\n",
        "def distancia(a,b, problem):\n",
        "  return problem.wfunc(a,b)"
      ],
      "execution_count": 0,
      "outputs": []
    },
    {
      "cell_type": "code",
      "metadata": {
        "id": "ffd6ZDUYutfK",
        "colab_type": "code",
        "colab": {}
      },
      "source": [
        "#Devuelve la distancia total de una trayectoria\n",
        "def distancia_total(solucion, problem):\n",
        "  distancia_total = 0\n",
        "  for i in range(len(solucion)-1):\n",
        "    distancia_total += distancia(solucion[i] ,solucion[i+1] ,  problem)\n",
        "  return distancia_total + distancia(solucion[len(solucion)-1] ,solucion[0], problem)"
      ],
      "execution_count": 0,
      "outputs": []
    },
    {
      "cell_type": "code",
      "metadata": {
        "id": "sUCXiWLYu6yO",
        "colab_type": "code",
        "colab": {}
      },
      "source": [
        "#Devuelve la distancia total de una trayectoria\n",
        "def distancia_total(solucion, problem):\n",
        "  distancia_total = 0\n",
        "  for i in range(len(solucion)-1):\n",
        "    distancia_total += distancia(solucion[i] ,solucion[i+1] ,  problem)\n",
        "  return distancia_total + distancia(solucion[len(solucion)-1] ,solucion[0], problem)"
      ],
      "execution_count": 0,
      "outputs": []
    },
    {
      "cell_type": "code",
      "metadata": {
        "id": "qNF0Du-NxWo9",
        "colab_type": "code",
        "colab": {}
      },
      "source": [
        "#Busqueda aleatorio\n",
        "def busqueda_aleatoria(problem, N):\n",
        "  mejor_solucion = crear_solucion(Nodos)\n",
        "  mejor_valor    = distancia_total(mejor_solucion, problem)\n",
        "\n",
        "  for i in range(N):\n",
        "      solucion = crear_solucion(Nodos)\n",
        "      valor    = distancia_total(solucion, problem)\n",
        "      if valor < mejor_valor:\n",
        "        mejor_solucion = solucion\n",
        "        mejor_valor = valor\n",
        "\n",
        "  print(\"La mejor solucion es \",mejor_valor,  mejor_solucion)"
      ],
      "execution_count": 0,
      "outputs": []
    },
    {
      "cell_type": "code",
      "metadata": {
        "id": "V8nk-TKExTh1",
        "colab_type": "code",
        "outputId": "5b5b53bb-2966-4bc9-990b-a83ab7f51f8d",
        "colab": {
          "base_uri": "https://localhost:8080/",
          "height": 54
        }
      },
      "source": [
        "busqueda_aleatoria(problem, 500)"
      ],
      "execution_count": 9,
      "outputs": [
        {
          "output_type": "stream",
          "text": [
            "La mejor solucion es  3813 [0, 16, 12, 41, 24, 5, 9, 23, 38, 30, 25, 8, 34, 20, 35, 17, 6, 19, 1, 13, 36, 15, 14, 18, 28, 37, 7, 32, 22, 39, 11, 33, 21, 31, 26, 27, 4, 3, 10, 40, 29, 2]\n"
          ],
          "name": "stdout"
        }
      ]
    },
    {
      "cell_type": "markdown",
      "metadata": {
        "id": "FovlCy82xsOC",
        "colab_type": "text"
      },
      "source": [
        "# Búsqueda local: Generador de vecindad"
      ]
    },
    {
      "cell_type": "code",
      "metadata": {
        "id": "pMl2lzyLxuxQ",
        "colab_type": "code",
        "colab": {}
      },
      "source": [
        "def genera_vecina(solucion):\n",
        "  #Generador de soluciones vecinas: 2-opt (intercambiar 2 nodos) Si hay N nodos se generan (N-1)x(N-2)/2 soluciones\n",
        "  #print(solucion)\n",
        "  mejor_solucion = []\n",
        "  mejor_distancia = 10e100\n",
        "  for i in range(1,len(solucion)-1):\n",
        "    for j in range(i+1, len(solucion)):\n",
        "      vecina = solucion[:i] + [solucion[j]] + solucion[i+1:j] + [solucion[i]] + solucion[j+1:] \n",
        "      distancia_vecina = distancia_total(vecina, problem)\n",
        "      if distancia_vecina <= mejor_distancia:\n",
        "        mejor_distancia = distancia_vecina\n",
        "        mejor_solucion = vecina\n",
        "  return mejor_solucion"
      ],
      "execution_count": 0,
      "outputs": []
    },
    {
      "cell_type": "code",
      "metadata": {
        "id": "yb4HuV3l0Yox",
        "colab_type": "code",
        "colab": {}
      },
      "source": [
        "def busqueda_local(problem, N):\n",
        "  #problem = datos del problema\n",
        "  #N = numero de iteraciones\n",
        "  \n",
        "  mejor_solucion = []\n",
        "  mejor_distancia = 10e100\n",
        "  \n",
        "  solucion_referencia = crear_solucion(Nodos)\n",
        "  \n",
        "  for i in range(N):\n",
        "    vecina = genera_vecina(solucion_referencia)\n",
        "    distancia_vecina = distancia_total(vecina, problem)\n",
        "    if distancia_vecina <= mejor_distancia:\n",
        "      mejor_solucion = vecina\n",
        "      mejor_distancia = distancia_vecina\n",
        "        \n",
        "    solucion_referencia = vecina\n",
        "  \n",
        "  print(\"La mejor solución encontrada es \" , mejor_distancia , mejor_solucion)"
      ],
      "execution_count": 0,
      "outputs": []
    },
    {
      "cell_type": "code",
      "metadata": {
        "id": "zLBMATmrzjuu",
        "colab_type": "code",
        "outputId": "cec8ba51-7d17-42a2-ccea-b82e6f5000c1",
        "colab": {
          "base_uri": "https://localhost:8080/",
          "height": 54
        }
      },
      "source": [
        "busqueda_local(problem, 100)"
      ],
      "execution_count": 12,
      "outputs": [
        {
          "output_type": "stream",
          "text": [
            "La mejor solución encontrada es  1999 [0, 28, 29, 9, 23, 41, 8, 30, 34, 33, 20, 35, 36, 37, 7, 6, 26, 18, 39, 24, 40, 21, 5, 19, 13, 12, 11, 25, 10, 22, 38, 32, 31, 17, 1, 3, 27, 2, 4, 14, 16, 15]\n"
          ],
          "name": "stdout"
        }
      ]
    },
    {
      "cell_type": "markdown",
      "metadata": {
        "id": "HFpFauJj5AQF",
        "colab_type": "text"
      },
      "source": [
        "# Recocido simulado"
      ]
    },
    {
      "cell_type": "code",
      "metadata": {
        "id": "M_eXCUSG5C-o",
        "colab_type": "code",
        "colab": {}
      },
      "source": [
        "def genera_vecina_aleatorio(solucion):\n",
        "  #Generador de 1 solucion vecina 2-opt (intercambiar 2 nodos)\n",
        "  #Se puede mejorar haciendo que la elección no se uniforme sino entre las que estén más proximas\n",
        "  i = random.choice(range(1, len(solucion)) )\n",
        "  j = random.choice(list(set(range(1, len(solucion))) - {i}))\n",
        "  if j<i:\n",
        "    i,j=j,i\n",
        "  vecina = list(solucion[:i] + [solucion[j]] + solucion[i+1:j] + [solucion[i]] + solucion[j+1:])\n",
        "  return vecina"
      ],
      "execution_count": 0,
      "outputs": []
    },
    {
      "cell_type": "code",
      "metadata": {
        "id": "Uh8dF7Na7RhT",
        "colab_type": "code",
        "colab": {}
      },
      "source": [
        "#Funcion de probabilidad para determinar si se cambia \n",
        "#    a una solución peor respecto a la de referencia(exponencial)\n",
        "def probabilidad(T,d):\n",
        "  if random.random() <= math.exp(-1*d / T)   :\n",
        "    return True\n",
        "  else:\n",
        "    return False\n",
        "\n",
        "def bajar_temperatura(T):\n",
        "  return T*.9999"
      ],
      "execution_count": 0,
      "outputs": []
    },
    {
      "cell_type": "code",
      "metadata": {
        "id": "h-EALDab8FUv",
        "colab_type": "code",
        "outputId": "6d883f52-730b-412c-864f-9aa52fa459cc",
        "colab": {
          "base_uri": "https://localhost:8080/",
          "height": 54
        }
      },
      "source": [
        "def recocido_simulado(problem, TEMPERATURA=1000):\n",
        "  #problem = datos del problema\n",
        "\n",
        "  solucion_referencia = crear_solucion(Nodos)\n",
        "  distancia_referencia = distancia_total(solucion_referencia, problem)\n",
        "  \n",
        "  mejor_solucion = []\n",
        "  mejor_distancia = 10e100\n",
        "\n",
        "  while TEMPERATURA > 1:\n",
        "    #Genera una solución vecina(aleatoria)\n",
        "    vecina = genera_vecina_aleatorio(solucion_referencia) \n",
        "    \n",
        "    #Calcula su valor(distancia)\n",
        "    distancia_vecina = distancia_total(vecina, problem)\n",
        "    \n",
        "    #Si es la mejor solución de todas se guarda\n",
        "    if distancia_vecina < mejor_distancia:\n",
        "      mejor_solucion = vecina\n",
        "      mejor_distancia = distancia_vecina\n",
        "      #print('\\t****Encontrada mejor solucion:', mejor_distancia , mejor_solucion, '\\n')\n",
        "    \n",
        "    #Si la nueva vecina es mejor se cambia y si es peor se cambia según \n",
        "    # una probabilidad dependiente de T y de |distancia_referencia - distancia_vecina|\n",
        "    p = probabilidad(TEMPERATURA, abs(distancia_referencia - distancia_vecina) )\n",
        "    if distancia_vecina < distancia_referencia or p :\n",
        "      solucion_referencia = vecina\n",
        "      distancia_referencia = distancia_vecina\n",
        "    \n",
        "    TEMPERATURA = bajar_temperatura(TEMPERATURA)\n",
        "\n",
        "  print(\"La mejor solución encontrada es :\" , mejor_distancia, mejor_solucion  )\n",
        "  return mejor_solucion\n",
        "\n",
        "sol = recocido_simulado(problem, TEMPERATURA=100000)"
      ],
      "execution_count": 15,
      "outputs": [
        {
          "output_type": "stream",
          "text": [
            "La mejor solución encontrada es : 1478 [0, 37, 15, 16, 14, 19, 13, 18, 12, 11, 25, 10, 8, 28, 27, 2, 3, 4, 26, 5, 6, 1, 7, 32, 30, 29, 9, 41, 23, 40, 24, 21, 39, 22, 38, 34, 33, 20, 35, 36, 17, 31]\n"
          ],
          "name": "stdout"
        }
      ]
    },
    {
      "cell_type": "markdown",
      "metadata": {
        "id": "TxuESe8P-tsc",
        "colab_type": "text"
      },
      "source": [
        "# Colonia de hormigas"
      ]
    },
    {
      "cell_type": "code",
      "metadata": {
        "id": "07--0vUdA7CU",
        "colab_type": "code",
        "colab": {}
      },
      "source": [
        "def Add_Nodo(problem, H ,T ) :\n",
        "  #Establecer una una funcion de probabilidad para \n",
        "  # añadir un nuevo nodo dependiendo de los nodos mas cercanos y de las feromonas depositadas\n",
        "  Nodos = list(problem.get_nodes())\n",
        "  return random.choice(   list(set(range(1,len(Nodos))) - set(H) )  )\n",
        "\n",
        "def Incrementa_Feromona(problem, T, H):\n",
        "  #Incrementar segun la calidad de la solución. Añadir una cantidad inversamente proporcional a la distancia total \n",
        "  for i in range(len(H)-1):\n",
        "    T[H[i]][H[i+1]] += 1000/distancia_total(H, problem)\n",
        "  return T\n",
        "\n",
        "def Evaporar_Feromonas(T):\n",
        "  #Podemos elegir diferentes funciones de evaporación dependiendo de la cantidad actual y de la suma total de feromonas depositadas,...\n",
        "  #Evapora 0.3 el valor de la feromona, sin que baje de 1\n",
        "  T = [[ max(T[i][j] - 0.3 , 1) for i in range(len(Nodos)) ] for j in range(len(Nodos))]\n",
        "  return T"
      ],
      "execution_count": 0,
      "outputs": []
    },
    {
      "cell_type": "code",
      "metadata": {
        "id": "-6MEgmFO5_jV",
        "colab_type": "code",
        "colab": {}
      },
      "source": [
        "def hormigas(problem, N) :\n",
        "  #problem = datos del problema\n",
        "  #N = Número de agentes(hormigas)\n",
        "    \n",
        "  #Nodos\n",
        "  Nodos = list(problem.get_nodes())\n",
        "    #Aristas\n",
        "  Aristas = list(problem.get_edges()) \n",
        "  \n",
        "  #Inicializa las aristas con una cantidad inicial de feromonas:1\n",
        "  T = [[ 1 for _ in range(len(Nodos)) ] for _ in range(len(Nodos))]\n",
        "  \n",
        "  #Se generan los agentes(hormigas) que serán estructuras de caminos desde 0\n",
        "  Hormiga = [[0] for _ in range(N)]\n",
        "\n",
        "  #Recorre cada agente construyendo la solución\n",
        "  for h in range(N) :\n",
        "    #print(\"\\nAgente:\", h)\n",
        "    #Para cada agente se construye un camino\n",
        "    for i in range(len(Nodos)-1) :\n",
        "      \n",
        "      #Elige el siguiente nodo\n",
        "      Nuevo_Nodo = Add_Nodo(problem, Hormiga[h] ,T )\n",
        "      \n",
        "      Hormiga[h].append(Nuevo_Nodo)     \n",
        "    \n",
        "    #Incrementa feromonas en esa arista \n",
        "    T = Incrementa_Feromona(problem, T, Hormiga[h] )\n",
        "    #print(\"Feromonas(1)\", T)\n",
        "      \n",
        "    #Evapora Feromonas  \n",
        "    T = Evaporar_Feromonas(T)\n",
        "    #print(\"Feromonas(2)\", T)\n",
        "\n",
        "    #Seleccionamos el mejor agente\n",
        "  mejor_solucion = []\n",
        "  mejor_distancia = 10e100\n",
        "  for h in range(N) :\n",
        "    distancia_actual = distancia_total(Hormiga[h], problem)\n",
        "    if distancia_actual < mejor_distancia:\n",
        "      mejor_solucion = Hormiga[h]\n",
        "      mejor_distancia =distancia_actual\n",
        "  \n",
        "  \n",
        "  print(mejor_solucion)\n",
        "  print(mejor_distancia)"
      ],
      "execution_count": 0,
      "outputs": []
    },
    {
      "cell_type": "code",
      "metadata": {
        "id": "WYEtQgYdA-OY",
        "colab_type": "code",
        "outputId": "48373412-d28a-45ac-910e-48730e5250ab",
        "colab": {
          "base_uri": "https://localhost:8080/",
          "height": 71
        }
      },
      "source": [
        "hormigas(problem, 1000)"
      ],
      "execution_count": 18,
      "outputs": [
        {
          "output_type": "stream",
          "text": [
            "[0, 13, 15, 16, 14, 33, 19, 31, 36, 24, 37, 1, 11, 4, 2, 35, 12, 27, 30, 9, 40, 23, 10, 25, 26, 5, 18, 7, 29, 28, 38, 39, 22, 8, 6, 3, 21, 41, 34, 20, 17, 32]\n",
            "3676\n"
          ],
          "name": "stdout"
        }
      ]
    },
    {
      "cell_type": "markdown",
      "metadata": {
        "id": "H6YHAZpSSpBk",
        "colab_type": "text"
      },
      "source": [
        "## Función de probabilidad  para elegir el siguiente nodo"
      ]
    },
    {
      "cell_type": "code",
      "metadata": {
        "id": "HVmRJzykS72O",
        "colab_type": "code",
        "colab": {}
      },
      "source": [
        "def Add_Nodo(problem, camino, feromonas, peso_feromona=1, peso_distancia=1):\n",
        "    \"\"\"Función de probabilidad para elegir el siguiente nodo\"\"\"\n",
        "    # Todos los nodos del problema.\n",
        "    nodos = list(problem.get_nodes())\n",
        "    # Ignoramos los nodos ya añadidos al camino.\n",
        "    nodos_disponibles = list(set(range(1, len(nodos))) - set(camino))\n",
        "    # Último nodo añadido al camino de la hormiga.\n",
        "    nodo_actual = camino[-1]\n",
        "    # Soporte para las probabilidades.\n",
        "    probabilidades = []\n",
        "\n",
        "    for nodo in nodos_disponibles:\n",
        "        feromona = feromonas[nodo_actual][nodo]\n",
        "        distancia_inversa = 1 / distancia(nodo_actual, nodo, problem)\n",
        "        # No necesitamos respetar la formula y dividir cada probabilidad de forma que\n",
        "        # suma(probabilidades) = 1. Obtendremos el mismo resultado.\n",
        "        probabilidades.append(feromona ** peso_feromona * distancia_inversa ** peso_distancia)\n",
        "\n",
        "    # Escogemos un punto aleatorio sobre el rango de probabilidades.\n",
        "    seleccion = random.random() * sum(probabilidades)\n",
        "    # Buscamos el nodo disponible correspondiente.\n",
        "    rango = 0\n",
        "    for posicion_nodo, probabilidad in enumerate(probabilidades):\n",
        "        rango += probabilidad\n",
        "        if seleccion < rango:\n",
        "            break\n",
        "\n",
        "    return nodos_disponibles[posicion_nodo]"
      ],
      "execution_count": 0,
      "outputs": []
    },
    {
      "cell_type": "code",
      "metadata": {
        "id": "BL_nS1ZDnKbi",
        "colab_type": "code",
        "colab": {
          "base_uri": "https://localhost:8080/",
          "height": 71
        },
        "outputId": "311eed5c-0783-4f48-9532-cbe0d59625c0"
      },
      "source": [
        "hormigas(problem, 1000)"
      ],
      "execution_count": 20,
      "outputs": [
        {
          "output_type": "stream",
          "text": [
            "[0, 18, 26, 28, 1, 32, 19, 17, 12, 14, 16, 15, 37, 27, 2, 4, 41, 25, 23, 8, 29, 38, 30, 34, 20, 33, 31, 36, 35, 7, 3, 22, 39, 21, 40, 24, 6, 5, 13, 10, 9, 11]\n",
            "2664\n"
          ],
          "name": "stdout"
        }
      ]
    }
  ]
}